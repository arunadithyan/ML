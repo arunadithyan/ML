{
 "cells": [
  {
   "cell_type": "markdown",
   "id": "a09e931f",
   "metadata": {},
   "source": [
    "***ALGORITHMS***"
   ]
  },
  {
   "cell_type": "markdown",
   "id": "9f474c96",
   "metadata": {},
   "source": [
    "- **PRIORI ANALYSIS**\n",
    "- **POSTERORI ANALYSIS**"
   ]
  },
  {
   "cell_type": "markdown",
   "id": "494a6b3a",
   "metadata": {},
   "source": [
    "CHARACTERISTICS\n",
    "- INPUT (0 OR 1)\n",
    "- OUTPUT (atleast MUST OUTPUT)\n",
    "- DEFINITENESS\n",
    "- FINITENESS\n",
    "- EFFECTIVENESS (speed)"
   ]
  },
  {
   "cell_type": "markdown",
   "id": "c9c34613",
   "metadata": {},
   "source": [
    "how to write an algorthims to swap "
   ]
  },
  {
   "cell_type": "markdown",
   "id": "1fab4e43",
   "metadata": {},
   "source": [
    "algorithm swap(a,b)\n",
    "begin \n",
    "temn =a;\n",
    "a=b\n",
    "b=temp"
   ]
  },
  {
   "cell_type": "markdown",
   "id": "261e4b19",
   "metadata": {},
   "source": [
    "***KRUSKAL ALGORTHIMS*** \n",
    "- ***Mininum spaning time***"
   ]
  },
  {
   "cell_type": "code",
   "execution_count": 32,
   "id": "cdb98901",
   "metadata": {},
   "outputs": [],
   "source": [
    "class Unionfind:\n",
    "    def __init__(self,n):\n",
    "        self.parent=list(range(n))\n",
    "        self.rank=[0]*n\n",
    "    def find(self,x):\n",
    "        if self.parent[x]!=x:\n",
    "            self.parent[x]=self.find(self.parent[x])\n",
    "        return self.parent[x]\n",
    "    def union(self,x,y):\n",
    "        x1=self.find(x)\n",
    "        x2=self.find(y)\n",
    "        if x1!=x2:\n",
    "            if self.rank[x1]<self.rank[x2]:\n",
    "                self.parent[x1]=x2\n",
    "            if self.rank[x1]>self.rank[x2]:\n",
    "                self.parent[x2]=x1\n",
    "            else:\n",
    "                self.parent[x2]=x1\n",
    "                self.rank[x1] +=1\n",
    "\n",
    "def kruskal(graph):\n",
    "    edges=[]\n",
    "    for u in range(len(graph)):\n",
    "        for v in range(len(graph[u])):\n",
    "            if graph[u][v]!=0:\n",
    "                edges.append((u, v, graph[u][v]))\n",
    "                \n",
    "    edges.sort(key=lambda x:x[2])\n",
    "    minimum_spanning_tree = []\n",
    "    uf = Unionfind(len(graph))\n",
    "    \n",
    "    for e in edges:\n",
    "        u, v, weight = e\n",
    "        if uf.find(u)!=uf.find(v):\n",
    "            uf.union(u,v)\n",
    "            minimum_spanning_tree.append(e)\n",
    "    return minimum_spanning_tree\n",
    "        \n",
    "    \n",
    "    \n",
    "            \n",
    "        "
   ]
  },
  {
   "cell_type": "code",
   "execution_count": 34,
   "id": "2d4d9cfa",
   "metadata": {},
   "outputs": [
    {
     "name": "stdout",
     "output_type": "stream",
     "text": [
      "[(0, 1, 2), (1, 2, 3), (1, 4, 5), (0, 3, 6)]\n"
     ]
    }
   ],
   "source": [
    "graph = [\n",
    "    [0, 2, 0, 6, 0],\n",
    "    [2, 0, 3, 8, 5],\n",
    "    [0, 3, 0, 0, 7],\n",
    "    [6, 8, 0, 0, 9],\n",
    "    [0, 5, 7, 9, 0]\n",
    "]\n",
    "\n",
    "minimum_spanning_tree = kruskal(graph)\n",
    "print(minimum_spanning_tree)\n"
   ]
  },
  {
   "cell_type": "markdown",
   "id": "a97496ba",
   "metadata": {},
   "source": [
    "***BINNARY SEARCH***"
   ]
  },
  {
   "cell_type": "code",
   "execution_count": 2,
   "id": "4f0616f7",
   "metadata": {
    "scrolled": true
   },
   "outputs": [],
   "source": [
    "class Solution:\n",
    "    def search(self,List,target):\n",
    "        l=0\n",
    "        r=len(nums)-1\n",
    "        while l<=r:\n",
    "            m=(l+r)//2\n",
    "            if nums[m]==target :\n",
    "                return m\n",
    "            elif nums[m]<target:\n",
    "              l=m+1\n",
    "            else:\n",
    "              r=m-1\n",
    "        return -1"
   ]
  },
  {
   "cell_type": "markdown",
   "id": "55daa39b",
   "metadata": {},
   "source": [
    "***HEAP SORT***"
   ]
  },
  {
   "cell_type": "code",
   "execution_count": 11,
   "id": "fff4ac03",
   "metadata": {},
   "outputs": [],
   "source": [
    "class Heapsort:\n",
    "    def heapfiy(arr,n,i):\n",
    "        largest=i\n",
    "        left=2*i\n",
    "        right=(2*i)+1\n",
    "        while l<=n and arr[left]>arr[largest]:\n",
    "            largest=left\n",
    "        while right<=n and arr[right]>arr[largest]:\n",
    "            largest=right\n",
    "        if largest!=i:\n",
    "                arr[largest],arr[i]=arr[i],a[largest]\n",
    "                self.heapify(arr,n,largest)\n",
    "    def heapsort(arr): \n",
    "        n=len(arr)\n",
    "        for i in range(n//2-1,-1,-1):\n",
    "            self.heapify(arr,n,-i) #bulid a heap\n",
    "        for i in range(n-1,0,-1):\n",
    "            arr[i],arr[0]=arr[0],arr[i] #extract one by one elements\n",
    "            self.heapify(arr,i,0)\n",
    "        return arr"
   ]
  },
  {
   "cell_type": "markdown",
   "id": "06db4c49",
   "metadata": {},
   "source": [
    "***MERGE SORT***"
   ]
  },
  {
   "cell_type": "code",
   "execution_count": 12,
   "id": "ceb16658",
   "metadata": {},
   "outputs": [],
   "source": [
    "def mergesort(arr):\n",
    "    n=len(arr)\n",
    "    if n>1:\n",
    "        mid=(n)//2\n",
    "        l=arr[:mid]\n",
    "        r=arr[mid:]\n",
    "        mergesort(l)\n",
    "        mergesort(r)\n",
    "        i=j=k=0\n",
    "        while i<len(l) and j<len(r):\n",
    "            if l[i]<r[j]:\n",
    "                arr[k]=l[i]\n",
    "                i+=1\n",
    "            else:\n",
    "                arr[k]=r[j]\n",
    "                j=+1\n",
    "            k=+1\n",
    "        while i<len(l):\n",
    "            arr[k]=l[i]\n",
    "            k=+1\n",
    "            i=+1\n",
    "        while j<len(r):\n",
    "            arr[k]=r[j]\n",
    "            k=+1\n",
    "            j=+1\n",
    "            \n",
    "            "
   ]
  },
  {
   "cell_type": "markdown",
   "id": "cb1d5b8b",
   "metadata": {},
   "source": [
    "***QUICKSORT***"
   ]
  },
  {
   "cell_type": "code",
   "execution_count": 7,
   "id": "ec8ff194",
   "metadata": {},
   "outputs": [],
   "source": [
    "class solution:\n",
    "    def findKthLargest(self,nums):\n",
    "        self.quickSort(nums, 0, len(nums) - 1)\n",
    "        return nums\n",
    "    def quickSort(self,nums,l,h):\n",
    "        if l<h:\n",
    "            piviot=self.partitionindex(nums,l,h)\n",
    "            self.quickSort(nums,l,piviot-1)\n",
    "            self.quicksort(nums,piviot+1,h)\n",
    "    def partitionindex(self,nums,l,h):\n",
    "        piviot=nums[h]\n",
    "        i=l-1\n",
    "        for j in range(l,h):\n",
    "            if l[j]<piviot:\n",
    "                i+=1\n",
    "                nums[i], nums[j] = nums[j], nums[i]\n",
    "        nums[i+1],nums[h]=nums[h],nums[i+1]\n",
    "        return i+1\n",
    "        "
   ]
  },
  {
   "cell_type": "markdown",
   "id": "06e1e6f8",
   "metadata": {},
   "source": [
    "***QUICK SORT TO FIND KTH LARGEST ELEMENT***"
   ]
  },
  {
   "cell_type": "code",
   "execution_count": 16,
   "id": "427b4539",
   "metadata": {},
   "outputs": [],
   "source": [
    "class Solution:\n",
    "    def findKthLargest(self, nums, k):\n",
    "        self.quickSort(nums, 0, len(nums) - 1)\n",
    "        return nums[-k]\n",
    "\n",
    "    def quickSort(self, nums, l, h):\n",
    "        if l < h:\n",
    "            pivot = self.partitionIndex(nums, l, h)\n",
    "            self.quickSort(nums, l, pivot - 1)\n",
    "            self.quickSort(nums, pivot + 1, h)\n",
    "\n",
    "    def partitionIndex(self, nums, l, h):\n",
    "        pivot = nums[h]\n",
    "        i = l - 1\n",
    "        for j in range(l, h):\n",
    "            if nums[j] < pivot:\n",
    "                i += 1\n",
    "                nums[i], nums[j] = nums[j], nums[i]\n",
    "        nums[i + 1], nums[h] = nums[h], nums[i + 1]\n",
    "        return i + 1\n"
   ]
  },
  {
   "cell_type": "markdown",
   "id": "48a029c0",
   "metadata": {},
   "source": [
    "***INSERTION SORT***"
   ]
  },
  {
   "cell_type": "code",
   "execution_count": 18,
   "id": "cb7e14a3",
   "metadata": {},
   "outputs": [],
   "source": [
    "class solution:\n",
    "    def insertionSort(nums):\n",
    "        n=len(nums)\n",
    "        for i in range(1,n):\n",
    "            temp=arr[i]\n",
    "            j=i-1\n",
    "            while j>=0 and nums[j]>temp:\n",
    "                nums[j+1]=nums[j]\n",
    "                j=-1\n",
    "            nums[j+1]=temp\n",
    "        "
   ]
  },
  {
   "cell_type": "markdown",
   "id": "e79fddd2",
   "metadata": {},
   "source": [
    "***sorting in linked list (very fast)***"
   ]
  },
  {
   "cell_type": "code",
   "execution_count": 21,
   "id": "1ca288c3",
   "metadata": {},
   "outputs": [],
   "source": [
    "class Solution:\n",
    "    def insertionSortList(self,head):\n",
    "        out=[]\n",
    "        temp=head\n",
    "        while temp:\n",
    "            out.append(temp.val)\n",
    "            temp=temp.next\n",
    "        out.sort()\n",
    "        temp=head\n",
    "        for i in out:\n",
    "            temp.val=i\n",
    "            temp=temp.next\n",
    "        return head"
   ]
  },
  {
   "cell_type": "markdown",
   "id": "f618a04f",
   "metadata": {},
   "source": [
    "***SELECTION SORT***"
   ]
  },
  {
   "cell_type": "code",
   "execution_count": 24,
   "id": "7073d80e",
   "metadata": {},
   "outputs": [],
   "source": [
    "class solution:\n",
    "    def selectionsort(self,nums):\n",
    "        n=len(nums)\n",
    "        for i in range(0,n-1):\n",
    "            minimum=i\n",
    "            for j in range(1,n):\n",
    "                if nums[j]<nums[minimum]:\n",
    "                    minimum=j\n",
    "            if minimum!=i:\n",
    "                nums[i],nums[minimum]=nums[minimun],nums[i]\n",
    "            "
   ]
  },
  {
   "cell_type": "markdown",
   "id": "ed14b9c9",
   "metadata": {},
   "source": [
    "***Greedy Method***"
   ]
  },
  {
   "cell_type": "markdown",
   "id": "e0e9284d",
   "metadata": {},
   "source": [
    "Dijkstra's algorithm is used to find the shortest path between nodes in a graph."
   ]
  },
  {
   "cell_type": "code",
   "execution_count": 6,
   "id": "9986e121",
   "metadata": {},
   "outputs": [
    {
     "name": "stdout",
     "output_type": "stream",
     "text": [
      "Shortest distances from node D:\n",
      "A : 6\n",
      "B : 3\n",
      "C : 4\n",
      "D : 0\n"
     ]
    }
   ],
   "source": [
    "import sys\n",
    "\n",
    "def dijkstra(graph, start):\n",
    "    # Initialize distance dictionary with all nodes set to infinity except the start node\n",
    "    distance = {node: float('inf') for node in graph}\n",
    "    distance[start] = 0\n",
    "\n",
    "    # Create a set to keep track of visited nodes\n",
    "    visited = set()\n",
    "\n",
    "    while visited != set(graph):\n",
    "        # Find the node with the minimum distance from the start node\n",
    "        min_node = None\n",
    "        for node in graph:\n",
    "            if node not in visited and (min_node is None or distance[node] < distance[min_node]):\n",
    "                min_node = node\n",
    "\n",
    "        # Mark the current node as visited\n",
    "        visited.add(min_node)\n",
    "\n",
    "        # Update distances to neighboring nodes\n",
    "        for neighbor, weight in graph[min_node].items():\n",
    "            new_distance = distance[min_node] + weight\n",
    "            if new_distance < distance[neighbor]:\n",
    "                distance[neighbor] = new_distance\n",
    "\n",
    "    return distance\n",
    "\n",
    "\n",
    "# Example usage\n",
    "graph = {\n",
    "    'A': {'B': 5, 'C': 2},\n",
    "    'B': {'A': 5, 'C': 1, 'D': 3},\n",
    "    'C': {'A': 2, 'B': 1, 'D': 6},\n",
    "    'D': {'B': 3, 'C': 6}\n",
    "}\n",
    "\n",
    "start_node = 'D'\n",
    "distances = dijkstra(graph, start_node)\n",
    "\n",
    "print(\"Shortest distances from node\", start_node + \":\")\n",
    "for node, distance in distances.items():\n",
    "    print(node, \":\", distance)\n"
   ]
  },
  {
   "cell_type": "code",
   "execution_count": null,
   "id": "d877e89b",
   "metadata": {},
   "outputs": [],
   "source": []
  }
 ],
 "metadata": {
  "kernelspec": {
   "display_name": "Python 3 (ipykernel)",
   "language": "python",
   "name": "python3"
  },
  "language_info": {
   "codemirror_mode": {
    "name": "ipython",
    "version": 3
   },
   "file_extension": ".py",
   "mimetype": "text/x-python",
   "name": "python",
   "nbconvert_exporter": "python",
   "pygments_lexer": "ipython3",
   "version": "3.10.6"
  }
 },
 "nbformat": 4,
 "nbformat_minor": 5
}
