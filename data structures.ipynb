{
 "cells": [
  {
   "cell_type": "code",
   "execution_count": 1,
   "id": "fa9354af",
   "metadata": {},
   "outputs": [],
   "source": [
    "class Stack:\n",
    "    def __init__(self):\n",
    "        self.items = []\n",
    "        print(\"Stack created.\")\n",
    "\n",
    "    def push(self, item):\n",
    "        self.items.append(item)\n",
    "        print(\"Added item to the stack:\", item)\n",
    "\n",
    "    def pop(self):\n",
    "        item = self.items.pop()\n",
    "        print(\"Removed item from the stack:\", item)\n",
    "        return item\n",
    "\n",
    "    def top(self):\n",
    "        item = self.items[-1]\n",
    "        print(\"Top item on the stack:\", item)\n",
    "        return item\n",
    "\n",
    "    def is_empty(self):\n",
    "        if len(self.items) == 0:\n",
    "            print(\"Stack is empty.\")\n",
    "            return True\n",
    "        else:\n",
    "            print(\"Stack is not empty.\")\n",
    "            return False"
   ]
  },
  {
   "cell_type": "code",
   "execution_count": 2,
   "id": "13aae15d",
   "metadata": {},
   "outputs": [
    {
     "name": "stdout",
     "output_type": "stream",
     "text": [
      "Stack created.\n",
      "Added item to the stack: 12\n"
     ]
    }
   ],
   "source": [
    "s=Stack()\n",
    "s.push(12)"
   ]
  },
  {
   "cell_type": "code",
   "execution_count": 3,
   "id": "49217cfc",
   "metadata": {},
   "outputs": [
    {
     "name": "stdout",
     "output_type": "stream",
     "text": [
      "deque([13, 10, 12])\n"
     ]
    }
   ],
   "source": [
    "\n",
    "from collections import deque\n",
    "d=deque()\n",
    "d.append(10)\n",
    "d.append(12)\n",
    "d.append(13)\n",
    "d.append(15)\n",
    "d.pop()\n",
    "d.rotate(1) #rotate the stack\n",
    "print(d)"
   ]
  },
  {
   "cell_type": "markdown",
   "id": "4fbeee2c",
   "metadata": {},
   "source": [
    "using lifo queue module \n",
    "\n",
    "put for push \n",
    "\n",
    "and get for pop"
   ]
  },
  {
   "cell_type": "code",
   "execution_count": 4,
   "id": "6ae17724",
   "metadata": {},
   "outputs": [
    {
     "data": {
      "text/plain": [
       "14"
      ]
     },
     "execution_count": 4,
     "metadata": {},
     "output_type": "execute_result"
    }
   ],
   "source": [
    "import queue \n",
    "l=queue.LifoQueue() \n",
    "l.put(12)\n",
    "l.put(14)\n",
    "l.get()"
   ]
  },
  {
   "cell_type": "markdown",
   "id": "15ed7c8f",
   "metadata": {},
   "source": [
    "there is more time for get if there is no elemnt so there is a time limit function is used"
   ]
  },
  {
   "cell_type": "code",
   "execution_count": 5,
   "id": "ee57f9b4",
   "metadata": {},
   "outputs": [
    {
     "ename": "Empty",
     "evalue": "",
     "output_type": "error",
     "traceback": [
      "\u001b[0;31m---------------------------------------------------------------------------\u001b[0m",
      "\u001b[0;31mEmpty\u001b[0m                                     Traceback (most recent call last)",
      "Cell \u001b[0;32mIn[5], line 7\u001b[0m\n\u001b[1;32m      5\u001b[0m l\u001b[39m.\u001b[39mget()\n\u001b[1;32m      6\u001b[0m l\u001b[39m.\u001b[39mget()\n\u001b[0;32m----> 7\u001b[0m l\u001b[39m.\u001b[39;49mget(timeout\u001b[39m=\u001b[39;49m\u001b[39m1\u001b[39;49m)\n",
      "File \u001b[0;32m/usr/lib/python3.10/queue.py:179\u001b[0m, in \u001b[0;36mQueue.get\u001b[0;34m(self, block, timeout)\u001b[0m\n\u001b[1;32m    177\u001b[0m         remaining \u001b[39m=\u001b[39m endtime \u001b[39m-\u001b[39m time()\n\u001b[1;32m    178\u001b[0m         \u001b[39mif\u001b[39;00m remaining \u001b[39m<\u001b[39m\u001b[39m=\u001b[39m \u001b[39m0.0\u001b[39m:\n\u001b[0;32m--> 179\u001b[0m             \u001b[39mraise\u001b[39;00m Empty\n\u001b[1;32m    180\u001b[0m         \u001b[39mself\u001b[39m\u001b[39m.\u001b[39mnot_empty\u001b[39m.\u001b[39mwait(remaining)\n\u001b[1;32m    181\u001b[0m item \u001b[39m=\u001b[39m \u001b[39mself\u001b[39m\u001b[39m.\u001b[39m_get()\n",
      "\u001b[0;31mEmpty\u001b[0m: "
     ]
    }
   ],
   "source": [
    "import queue \n",
    "l=queue.LifoQueue()\n",
    "l.put(10)\n",
    "l.put(12)\n",
    "l.get()\n",
    "l.get()\n",
    "l.get(timeout=1)"
   ]
  },
  {
   "cell_type": "markdown",
   "id": "52782a23",
   "metadata": {},
   "source": [
    "**QUEUE**"
   ]
  },
  {
   "cell_type": "code",
   "execution_count": 6,
   "id": "bc501c74",
   "metadata": {},
   "outputs": [],
   "source": [
    "class Queue:\n",
    "    def __init__(self):\n",
    "        self.items = []\n",
    "        print(\"Queue created.\")\n",
    "\n",
    "    def push(self, item):\n",
    "        self.items.append(item)\n",
    "        print(\"Added item to the Queue:\", item)\n",
    "\n",
    "    def pop(self):\n",
    "        item = self.items.pop(0)\n",
    "        print(\"Removed item from the Queue:\", item)\n",
    "        return item\n",
    "\n",
    "    def top(self):\n",
    "        item = self.items[-1]\n",
    "        print(\"Top item on the Queue:\", item)\n",
    "        return item\n",
    "\n",
    "    def is_empty(self):\n",
    "        if len(self.items) == 0:\n",
    "            print(\"Queue is empty.\")\n",
    "            return True\n",
    "        else:\n",
    "            print(\"Queue is not empty.\")\n",
    "            return False\n",
    "\n",
    "    def display(self):\n",
    "        if self.is_empty():\n",
    "            print(\"Nothing to display.\")\n",
    "        else:\n",
    "            print(\"Items in the Queue:\")\n",
    "            for item in self.items:\n",
    "                print(item,end=\"-\")\n",
    "    def print(self):\n",
    "        print(self.items)"
   ]
  },
  {
   "cell_type": "code",
   "execution_count": 7,
   "id": "ee190c01",
   "metadata": {},
   "outputs": [
    {
     "name": "stdout",
     "output_type": "stream",
     "text": [
      "Queue created.\n",
      "Added item to the Queue: 1\n",
      "Added item to the Queue: 2\n",
      "Added item to the Queue: 3\n",
      "Queue is not empty.\n",
      "Items in the Queue:\n",
      "1-2-3-"
     ]
    }
   ],
   "source": [
    "q = Queue()  # creates an empty Queue\n",
    "q.push(1)    # adds 1 to the Queue\n",
    "q.push(2)    # adds 2 to the Queue\n",
    "q.push(3)    # adds 3 to the Queue\n",
    "q.display()  # prints the items in the Queue\n"
   ]
  },
  {
   "cell_type": "code",
   "execution_count": 8,
   "id": "023b2041",
   "metadata": {},
   "outputs": [
    {
     "name": "stdout",
     "output_type": "stream",
     "text": [
      "[1, 2, 3]\n"
     ]
    }
   ],
   "source": [
    "q.print()"
   ]
  },
  {
   "cell_type": "code",
   "execution_count": 8,
   "id": "32e56ca1",
   "metadata": {},
   "outputs": [],
   "source": [
    "from collections import deque"
   ]
  },
  {
   "cell_type": "code",
   "execution_count": null,
   "id": "86f1667e",
   "metadata": {
    "scrolled": true
   },
   "outputs": [],
   "source": []
  },
  {
   "cell_type": "code",
   "execution_count": 9,
   "id": "e2f0b794",
   "metadata": {},
   "outputs": [],
   "source": [
    "d=deque()\n",
    "d.appendleft(1)"
   ]
  },
  {
   "cell_type": "code",
   "execution_count": 10,
   "id": "3ab30d54",
   "metadata": {},
   "outputs": [],
   "source": [
    "d.appendleft(2)\n",
    "d.append(2)"
   ]
  },
  {
   "cell_type": "code",
   "execution_count": 11,
   "id": "7dc49e7b",
   "metadata": {},
   "outputs": [
    {
     "data": {
      "text/plain": [
       "2"
      ]
     },
     "execution_count": 11,
     "metadata": {},
     "output_type": "execute_result"
    }
   ],
   "source": [
    "d.popleft()"
   ]
  },
  {
   "cell_type": "code",
   "execution_count": 12,
   "id": "0b26d308",
   "metadata": {},
   "outputs": [
    {
     "name": "stdout",
     "output_type": "stream",
     "text": [
      "deque([1, 2])\n"
     ]
    }
   ],
   "source": [
    "print(d)"
   ]
  },
  {
   "cell_type": "markdown",
   "id": "a0e6bd88",
   "metadata": {},
   "source": [
    "module name is queue from class"
   ]
  },
  {
   "cell_type": "code",
   "execution_count": 13,
   "id": "77d1c576",
   "metadata": {},
   "outputs": [],
   "source": [
    "from queue import Queue"
   ]
  },
  {
   "cell_type": "code",
   "execution_count": 14,
   "id": "812d6dc3",
   "metadata": {},
   "outputs": [],
   "source": [
    "q=Queue()"
   ]
  },
  {
   "cell_type": "code",
   "execution_count": 15,
   "id": "7b23a72a",
   "metadata": {},
   "outputs": [],
   "source": [
    "q.put(10)"
   ]
  },
  {
   "cell_type": "code",
   "execution_count": 16,
   "id": "08270ef5",
   "metadata": {},
   "outputs": [],
   "source": [
    "q.put(50)"
   ]
  },
  {
   "cell_type": "code",
   "execution_count": 17,
   "id": "0c680337",
   "metadata": {},
   "outputs": [
    {
     "data": {
      "text/plain": [
       "10"
      ]
     },
     "execution_count": 17,
     "metadata": {},
     "output_type": "execute_result"
    }
   ],
   "source": [
    "q.get()"
   ]
  },
  {
   "cell_type": "code",
   "execution_count": 18,
   "id": "f2c46153",
   "metadata": {},
   "outputs": [
    {
     "name": "stdout",
     "output_type": "stream",
     "text": [
      "<class 'queue.Queue'>\n"
     ]
    }
   ],
   "source": [
    "print(Queue) #need some cahnges"
   ]
  },
  {
   "cell_type": "markdown",
   "id": "ee044787",
   "metadata": {},
   "source": [
    "**priority queue** based on the priority removing the numbers ie two methods highest by value ie by sorting the queue"
   ]
  },
  {
   "cell_type": "code",
   "execution_count": 19,
   "id": "c9c605b0",
   "metadata": {},
   "outputs": [],
   "source": [
    "import queue\n",
    "q=queue.PriorityQueue()"
   ]
  },
  {
   "cell_type": "code",
   "execution_count": 20,
   "id": "834d82ef",
   "metadata": {},
   "outputs": [],
   "source": [
    "q.put(110)\n",
    "q.put(103)\n",
    "q.put(20)\n",
    "q.put(47)\n",
    "q.put(160)\n",
    "q.put(150)\n",
    "q.put(160)"
   ]
  },
  {
   "cell_type": "code",
   "execution_count": 21,
   "id": "35baaa56",
   "metadata": {},
   "outputs": [
    {
     "data": {
      "text/plain": [
       "20"
      ]
     },
     "execution_count": 21,
     "metadata": {},
     "output_type": "execute_result"
    }
   ],
   "source": [
    "q.get()"
   ]
  },
  {
   "cell_type": "code",
   "execution_count": 22,
   "id": "bb52820c",
   "metadata": {},
   "outputs": [
    {
     "data": {
      "text/plain": [
       "47"
      ]
     },
     "execution_count": 22,
     "metadata": {},
     "output_type": "execute_result"
    }
   ],
   "source": [
    "q.get() # giving in the ascending order"
   ]
  },
  {
   "cell_type": "code",
   "execution_count": 23,
   "id": "8a1c992c",
   "metadata": {},
   "outputs": [
    {
     "data": {
      "text/plain": [
       "103"
      ]
     },
     "execution_count": 23,
     "metadata": {},
     "output_type": "execute_result"
    }
   ],
   "source": [
    "q.get()"
   ]
  },
  {
   "cell_type": "code",
   "execution_count": 24,
   "id": "5795a234",
   "metadata": {},
   "outputs": [],
   "source": [
    "q=[]\n",
    "q.append((1,\"alexa\"))\n",
    "q.append((12,\"alex\"))\n",
    "q.append((13,\"ale\"))\n",
    "q.append((11,\"al\"))"
   ]
  },
  {
   "cell_type": "code",
   "execution_count": 25,
   "id": "ff537c4e",
   "metadata": {},
   "outputs": [],
   "source": [
    "q.sort(reverse=True)"
   ]
  },
  {
   "cell_type": "code",
   "execution_count": 26,
   "id": "b9376d39",
   "metadata": {},
   "outputs": [
    {
     "name": "stdout",
     "output_type": "stream",
     "text": [
      "[(13, 'ale'), (12, 'alex'), (11, 'al'), (1, 'alexa')]\n"
     ]
    }
   ],
   "source": [
    "print(q)"
   ]
  },
  {
   "cell_type": "code",
   "execution_count": 27,
   "id": "862f4945",
   "metadata": {},
   "outputs": [
    {
     "data": {
      "text/plain": [
       "(1, 'alexa')"
      ]
     },
     "execution_count": 27,
     "metadata": {},
     "output_type": "execute_result"
    }
   ],
   "source": [
    "q.pop()"
   ]
  },
  {
   "cell_type": "markdown",
   "id": "596ffcec",
   "metadata": {},
   "source": [
    "**LInkedlist** is the chain of nodes in which the each node is consists of data link and the reference\n"
   ]
  },
  {
   "cell_type": "markdown",
   "id": "952411eb",
   "metadata": {},
   "source": [
    "types are \n",
    "**single ,double,circular**"
   ]
  },
  {
   "cell_type": "code",
   "execution_count": null,
   "id": "b15babf6",
   "metadata": {},
   "outputs": [],
   "source": [
    "\n",
    "        \n"
   ]
  },
  {
   "cell_type": "code",
   "execution_count": null,
   "id": "b168673e",
   "metadata": {},
   "outputs": [],
   "source": []
  },
  {
   "cell_type": "code",
   "execution_count": null,
   "id": "1e2e8074",
   "metadata": {},
   "outputs": [],
   "source": []
  },
  {
   "cell_type": "code",
   "execution_count": null,
   "id": "186b323d",
   "metadata": {},
   "outputs": [],
   "source": []
  },
  {
   "cell_type": "code",
   "execution_count": null,
   "id": "ba34c76c",
   "metadata": {},
   "outputs": [],
   "source": []
  },
  {
   "cell_type": "code",
   "execution_count": null,
   "id": "1467ad41",
   "metadata": {},
   "outputs": [],
   "source": []
  },
  {
   "cell_type": "markdown",
   "id": "77888c94",
   "metadata": {},
   "source": [
    "linked list :::"
   ]
  },
  {
   "cell_type": "code",
   "execution_count": null,
   "id": "c14e61b4",
   "metadata": {},
   "outputs": [],
   "source": []
  },
  {
   "cell_type": "code",
   "execution_count": 31,
   "id": "aeef13e0",
   "metadata": {},
   "outputs": [],
   "source": [
    "class Node :\n",
    "    def __init__(self,data,ref=None):\n",
    "        self.data=data\n",
    "        self.ref=ref\n"
   ]
  },
  {
   "cell_type": "code",
   "execution_count": 32,
   "id": "6f005e5d",
   "metadata": {},
   "outputs": [],
   "source": [
    "node=Node(10)"
   ]
  },
  {
   "cell_type": "code",
   "execution_count": 35,
   "id": "a5b76120",
   "metadata": {},
   "outputs": [
    {
     "name": "stdout",
     "output_type": "stream",
     "text": [
      "<__main__.Node object at 0x7fe8a8534040>\n",
      "None\n"
     ]
    }
   ],
   "source": [
    "print(node)\n",
    "print(node.ref)"
   ]
  },
  {
   "cell_type": "markdown",
   "id": "5e79c47b",
   "metadata": {},
   "source": [
    "***Singly linked list***"
   ]
  },
  {
   "cell_type": "code",
   "execution_count": 4,
   "id": "d5840633",
   "metadata": {},
   "outputs": [],
   "source": [
    " class linkedlist:\n",
    "        def __init__(self):\n",
    "            self.head=None\n",
    "        def printll(self):\n",
    "            if self.head is None:\n",
    "                print(\"empty\")\n",
    "            else:\n",
    "                n=self.head\n",
    "                while n is not None:\n",
    "                    print(n.data,\"->\",end=\" \")\n",
    "                    n=n.ref #takes to another node\n",
    "        def add(self,data):\n",
    "            new=Node(data)\n",
    "            new.ref=self.head\n",
    "            self.head=new\n",
    "        def addend(self,data):\n",
    "            new=Node(data)\n",
    "            n=self.head\n",
    "            if n is None:\n",
    "                self.head=new\n",
    "            else:\n",
    "                while n.ref is not None:\n",
    "                    n=n.ref\n",
    "                n.ref=new\n",
    "        def insertafter(self,data,x):\n",
    "            new=Node(data)\n",
    "            n=self.head\n",
    "            while n is not None:\n",
    "                if x==n.data:\n",
    "                    break\n",
    "                n=n.ref\n",
    "            if n is None:\n",
    "                print(\"node is not present\")\n",
    "            else:\n",
    "                new.ref=n.ref\n",
    "                n.ref=new\n",
    "        def insertbefore(self,data,x):\n",
    "            new=Node(data)\n",
    "            n=self.head\n",
    "            if n is None:\n",
    "                print(\"list is empty\")\n",
    "                return\n",
    "            if self.head.data==x:\n",
    "                new.ref=n\n",
    "                n=new\n",
    "                return\n",
    "            while n.ref is not None:\n",
    "                if n.ref.data==x:\n",
    "                    break\n",
    "                n=n.ref\n",
    "            if n.ref is None:\n",
    "                print(\"node not found\")\n",
    "            else:\n",
    "                new.ref=n.ref\n",
    "                n.ref=new\n",
    "        def insertempty(self,data):\n",
    "                if self.head is None:\n",
    "                    new=Node(data)\n",
    "                    self.head=new\n",
    "                else:\n",
    "                    print(\"linked list is not empty\")\n",
    "        def removehead(self):\n",
    "            n=self.head\n",
    "            if n is None:\n",
    "                print(\"linked list is empty\")\n",
    "            else:\n",
    "                self.head=self.head.ref\n",
    "        def removeend(self):\n",
    "            if self.head is None:\n",
    "                print(\"list is empty\")\n",
    "            elif self.head.ref is None:\n",
    "                self.head=None\n",
    "            else:\n",
    "                n=self.head\n",
    "                while n.ref.ref is not None:\n",
    "                    n=n.ref\n",
    "                n.ref=None\n",
    "        def remove(self,data):\n",
    "            if self.head is None:  #we can also use else\n",
    "                print(\"cant del,list is empty\")\n",
    "                return\n",
    "            if data==self.head.data:\n",
    "                self.head=self.head.ref\n",
    "                return\n",
    "            n=self.head\n",
    "            while n.ref is not None:\n",
    "                if data==n.ref.data:\n",
    "                    break\n",
    "                n=n.ref\n",
    "            if n.ref is None:\n",
    "                print(\"cant find\")\n",
    "                return \n",
    "            n.ref=n.ref.ref\n",
    "            \n",
    "            \n",
    "            "
   ]
  },
  {
   "cell_type": "code",
   "execution_count": null,
   "id": "39f9f6c1",
   "metadata": {},
   "outputs": [],
   "source": []
  },
  {
   "cell_type": "code",
   "execution_count": 5,
   "id": "048b5c75",
   "metadata": {},
   "outputs": [
    {
     "name": "stdout",
     "output_type": "stream",
     "text": [
      "empty\n"
     ]
    }
   ],
   "source": [
    "ll=linkedlist()\n",
    "ll.printll()"
   ]
  },
  {
   "cell_type": "code",
   "execution_count": 6,
   "id": "c54c4924",
   "metadata": {},
   "outputs": [],
   "source": [
    " ll.insertempty(10)"
   ]
  },
  {
   "cell_type": "code",
   "execution_count": 7,
   "id": "ca2d2c9d",
   "metadata": {},
   "outputs": [
    {
     "name": "stdout",
     "output_type": "stream",
     "text": [
      "10 -> "
     ]
    }
   ],
   "source": [
    "ll.printll()"
   ]
  },
  {
   "cell_type": "code",
   "execution_count": 8,
   "id": "5ea5bc2f",
   "metadata": {},
   "outputs": [],
   "source": [
    "ll.add(20)"
   ]
  },
  {
   "cell_type": "code",
   "execution_count": 9,
   "id": "8f264512",
   "metadata": {},
   "outputs": [
    {
     "name": "stdout",
     "output_type": "stream",
     "text": [
      "20 -> 10 -> "
     ]
    }
   ],
   "source": [
    "ll.printll()"
   ]
  },
  {
   "cell_type": "code",
   "execution_count": 10,
   "id": "dee32d21",
   "metadata": {},
   "outputs": [],
   "source": [
    "ll.addend(23)"
   ]
  },
  {
   "cell_type": "code",
   "execution_count": 11,
   "id": "c3af2edd",
   "metadata": {},
   "outputs": [
    {
     "name": "stdout",
     "output_type": "stream",
     "text": [
      "20 -> 10 -> 23 -> "
     ]
    }
   ],
   "source": [
    "ll.printll()"
   ]
  },
  {
   "cell_type": "code",
   "execution_count": 12,
   "id": "34c3fc2c",
   "metadata": {},
   "outputs": [],
   "source": [
    "ll.insertafter(15,10)"
   ]
  },
  {
   "cell_type": "code",
   "execution_count": 13,
   "id": "39253e75",
   "metadata": {},
   "outputs": [
    {
     "name": "stdout",
     "output_type": "stream",
     "text": [
      "20 -> 10 -> 15 -> 23 -> "
     ]
    }
   ],
   "source": [
    "ll.printll()"
   ]
  },
  {
   "cell_type": "code",
   "execution_count": 14,
   "id": "74ebf504",
   "metadata": {},
   "outputs": [
    {
     "name": "stdout",
     "output_type": "stream",
     "text": [
      "node is not present\n"
     ]
    }
   ],
   "source": [
    "ll.insertafter(15,100)"
   ]
  },
  {
   "cell_type": "code",
   "execution_count": 15,
   "id": "e1246e52",
   "metadata": {},
   "outputs": [],
   "source": [
    "ll.insertbefore(20,15)"
   ]
  },
  {
   "cell_type": "code",
   "execution_count": 16,
   "id": "178d2af8",
   "metadata": {},
   "outputs": [
    {
     "name": "stdout",
     "output_type": "stream",
     "text": [
      "20 -> 10 -> 20 -> 15 -> 23 -> "
     ]
    }
   ],
   "source": [
    "ll.printll()"
   ]
  },
  {
   "cell_type": "code",
   "execution_count": 17,
   "id": "97194539",
   "metadata": {},
   "outputs": [],
   "source": [
    "ll.removehead()"
   ]
  },
  {
   "cell_type": "code",
   "execution_count": 18,
   "id": "1d3aaa08",
   "metadata": {},
   "outputs": [
    {
     "name": "stdout",
     "output_type": "stream",
     "text": [
      "10 -> 20 -> 15 -> 23 -> "
     ]
    }
   ],
   "source": [
    "ll.printll()"
   ]
  },
  {
   "cell_type": "code",
   "execution_count": 19,
   "id": "463febed",
   "metadata": {},
   "outputs": [
    {
     "name": "stdout",
     "output_type": "stream",
     "text": [
      "10 -> 20 -> 15 -> "
     ]
    }
   ],
   "source": [
    "ll.removeend()\n",
    "ll.printll()"
   ]
  },
  {
   "cell_type": "code",
   "execution_count": 20,
   "id": "1322ff31",
   "metadata": {},
   "outputs": [
    {
     "name": "stdout",
     "output_type": "stream",
     "text": [
      "cant find\n"
     ]
    }
   ],
   "source": [
    "ll.remove(23)"
   ]
  },
  {
   "cell_type": "code",
   "execution_count": 21,
   "id": "c016c2c0",
   "metadata": {},
   "outputs": [
    {
     "name": "stdout",
     "output_type": "stream",
     "text": [
      "10 -> 20 -> 15 -> "
     ]
    }
   ],
   "source": [
    "ll.printll()"
   ]
  },
  {
   "cell_type": "markdown",
   "id": "5aa3681e",
   "metadata": {},
   "source": [
    "***Doubly linked list***"
   ]
  },
  {
   "cell_type": "code",
   "execution_count": 22,
   "id": "1a6e894f",
   "metadata": {},
   "outputs": [],
   "source": [
    "class Node:\n",
    "    def __init__(self,data):\n",
    "        self.data=data\n",
    "        self.pref=None #1st one (pref)\n",
    "        self.nref=None #last one 1#node#2 (nref)\n",
    "class doublell:\n",
    "        def __init__(self):\n",
    "            self.head=None\n",
    "        def printdlf(self): #forward traversal\n",
    "            if self.head is None:\n",
    "                print(\"empty\")\n",
    "            else:\n",
    "                n=self.head\n",
    "                while n is not None:\n",
    "                    print(n.data,\"->\",end=\" \")\n",
    "                    n=n.nref\n",
    "        def printdlb(self):  #backward traversal\n",
    "            if self.head is None:\n",
    "                print(\"empty\")\n",
    "            else:\n",
    "                n=self.head\n",
    "                while n.nref is not None:\n",
    "                    n=n.nref\n",
    "                while n is not None:\n",
    "                    print(n.data,\"<-\",end=\" \")\n",
    "                    n=n.pref\n",
    "        def addnew(self,data):\n",
    "            new=Node(data)\n",
    "            if self.head is None:\n",
    "                self.head=new\n",
    "            else:\n",
    "                print(\"not empty\")\n",
    "        def addstart(self,data):\n",
    "            new=Node(data)\n",
    "            if self.head is None:\n",
    "                self.head=new\n",
    "                print(\"empty and added\")\n",
    "                return\n",
    "            new.nref=self.head\n",
    "            self.head.pref=new\n",
    "            self.head=new\n",
    "        def addend(self,data):\n",
    "            new=Node(data)\n",
    "            if self.head is None:\n",
    "                self.head=new\n",
    "                print(\"empty and added\")\n",
    "                return \n",
    "            n=self.head\n",
    "            while n.nref is not None:\n",
    "                n=n.nref\n",
    "            n.nref=new\n",
    "            new.pref=n\n",
    "        def addbefore(self,data,x):\n",
    "            new=Node(data) \n",
    "            if self.head is None:\n",
    "                print(\"empty linked list\")\n",
    "                return\n",
    "            n=self.head\n",
    "            while n is not None:\n",
    "                if x==n.data:\n",
    "                    break\n",
    "                n=n.nref\n",
    "            if n is None:\n",
    "                print(\"No data present\")\n",
    "            else:\n",
    "                new.nref=n\n",
    "                new.pref=n.pref#linking n.pref to node\n",
    "                if n.pref is None: #checking for head\n",
    "                    self.head=new\n",
    "                else:\n",
    "                    n.pref.nref=new #linking pref to node\n",
    "                n.pref=new #new node data in pref\n",
    "        def addafter(self,data,x):\n",
    "            new=Node(data)\n",
    "            if self.head is None:\n",
    "                print(\"empty\")\n",
    "            else:\n",
    "                n=self.head\n",
    "                while n is not None:\n",
    "                    if x==n.data:\n",
    "                        break\n",
    "                    n=n.nref\n",
    "                if n is None:\n",
    "                    print(\"not found\")\n",
    "                else:\n",
    "                    new.nref=n.nref\n",
    "                    new.pref=n\n",
    "                    if n.nref is not None:\n",
    "                        n.nref.pref =new\n",
    "                    n.nref=new\n",
    "                    \n",
    "        def removehead(self):\n",
    "            if self.head is None:\n",
    "                print(\"empty ,cant delete\")\n",
    "                return  #stops here and return value\n",
    "            if self.head.nref is None:\n",
    "                self.head=None\n",
    "                print(\"only one node,deleted now empty\")\n",
    "            else:\n",
    "                self.head=self.head.nref\n",
    "                self.head.pref=None\n",
    "        def removeend(self):\n",
    "            if self.head is None:\n",
    "                print(\"empty,cant delete\")\n",
    "                return\n",
    "            if self.head.nref is None:\n",
    "                self.head=None\n",
    "                print(\"only one deleted now empty\")\n",
    "            else:\n",
    "                n=self.head\n",
    "                while n.nref is not None:\n",
    "                    n=n.nref\n",
    "                n.pref.nref =None\n",
    "        def remove(self,x):\n",
    "            if self.head is None:\n",
    "                print(\"cant delete,empty\")\n",
    "                return\n",
    "            if self.head.nref is None :\n",
    "                if x==self.head.data:\n",
    "                    self.head=None\n",
    "                    print(\"only one,now deleted,so empty\")\n",
    "                else:\n",
    "                     print(\"x is not present\")\n",
    "                return\n",
    "            if self.head.data==x:\n",
    "                self.head=self.head.nref\n",
    "                self.head.pref=None\n",
    "                return\n",
    "            n=self.head\n",
    "            while n.nref is not None:\n",
    "                if x==n.data:\n",
    "                    break\n",
    "                n=n.nref\n",
    "            if n.nref is not None:\n",
    "                n.pref.nref=n.nref\n",
    "                n.nref.pref=n.pref\n",
    "            else:\n",
    "                if n.data==x:\n",
    "                    n.pref.nref=None\n",
    "                else:\n",
    "                    print(\"x not found\")\n",
    "                    \n",
    "                \n",
    "                \n",
    "                \n",
    "                \n",
    "                \n",
    "                "
   ]
  },
  {
   "cell_type": "code",
   "execution_count": 23,
   "id": "76ccaafe",
   "metadata": {},
   "outputs": [],
   "source": [
    "ll=doublell()"
   ]
  },
  {
   "cell_type": "code",
   "execution_count": 24,
   "id": "214a2faf",
   "metadata": {},
   "outputs": [
    {
     "name": "stdout",
     "output_type": "stream",
     "text": [
      "empty\n"
     ]
    }
   ],
   "source": [
    "ll.printdlf()"
   ]
  },
  {
   "cell_type": "code",
   "execution_count": 25,
   "id": "0da4da2d",
   "metadata": {},
   "outputs": [
    {
     "name": "stdout",
     "output_type": "stream",
     "text": [
      "empty\n"
     ]
    }
   ],
   "source": [
    "ll.printdlb()"
   ]
  },
  {
   "cell_type": "code",
   "execution_count": 26,
   "id": "34978f53",
   "metadata": {},
   "outputs": [],
   "source": [
    "ll.addnew(18)"
   ]
  },
  {
   "cell_type": "code",
   "execution_count": 27,
   "id": "ff4858eb",
   "metadata": {},
   "outputs": [
    {
     "name": "stdout",
     "output_type": "stream",
     "text": [
      "18 -> "
     ]
    }
   ],
   "source": [
    "ll.printdlf()"
   ]
  },
  {
   "cell_type": "code",
   "execution_count": 28,
   "id": "bdc8895a",
   "metadata": {},
   "outputs": [],
   "source": [
    "ll.addstart(20)"
   ]
  },
  {
   "cell_type": "code",
   "execution_count": 29,
   "id": "aa529847",
   "metadata": {},
   "outputs": [
    {
     "name": "stdout",
     "output_type": "stream",
     "text": [
      "20 -> 18 -> "
     ]
    }
   ],
   "source": [
    "ll.printdlf()"
   ]
  },
  {
   "cell_type": "code",
   "execution_count": 30,
   "id": "6b1e8805",
   "metadata": {},
   "outputs": [
    {
     "name": "stdout",
     "output_type": "stream",
     "text": [
      "18 <- 20 <- "
     ]
    }
   ],
   "source": [
    "ll.printdlb()"
   ]
  },
  {
   "cell_type": "code",
   "execution_count": 31,
   "id": "cab21247",
   "metadata": {},
   "outputs": [],
   "source": [
    "ll.addstart(30)"
   ]
  },
  {
   "cell_type": "code",
   "execution_count": 32,
   "id": "e5f0840a",
   "metadata": {},
   "outputs": [],
   "source": [
    "ll.addend(10)"
   ]
  },
  {
   "cell_type": "code",
   "execution_count": 33,
   "id": "c151d1b4",
   "metadata": {},
   "outputs": [
    {
     "name": "stdout",
     "output_type": "stream",
     "text": [
      "30 -> 20 -> 18 -> 10 -> "
     ]
    }
   ],
   "source": [
    "ll.printdlf()"
   ]
  },
  {
   "cell_type": "code",
   "execution_count": 34,
   "id": "68fd40d3",
   "metadata": {},
   "outputs": [],
   "source": [
    "ll.addbefore(2,30)"
   ]
  },
  {
   "cell_type": "code",
   "execution_count": 35,
   "id": "aaf13b8c",
   "metadata": {},
   "outputs": [],
   "source": [
    "ll.addafter(25,30)"
   ]
  },
  {
   "cell_type": "code",
   "execution_count": 36,
   "id": "d3ea77f3",
   "metadata": {},
   "outputs": [
    {
     "name": "stdout",
     "output_type": "stream",
     "text": [
      "2 -> 30 -> 25 -> 20 -> 18 -> 10 -> "
     ]
    }
   ],
   "source": [
    "ll.printdlf()"
   ]
  },
  {
   "cell_type": "code",
   "execution_count": 37,
   "id": "ea4dfa91",
   "metadata": {},
   "outputs": [],
   "source": [
    "ll.removehead()"
   ]
  },
  {
   "cell_type": "code",
   "execution_count": 38,
   "id": "74e3c1ed",
   "metadata": {},
   "outputs": [],
   "source": [
    "ll.removeend()"
   ]
  },
  {
   "cell_type": "code",
   "execution_count": 39,
   "id": "a18a3396",
   "metadata": {},
   "outputs": [],
   "source": [
    "ll.remove(18)"
   ]
  },
  {
   "cell_type": "markdown",
   "id": "a4d7dfdf",
   "metadata": {},
   "source": [
    "***circular linked list*** "
   ]
  },
  {
   "cell_type": "markdown",
   "id": "5d095821",
   "metadata": {},
   "source": [
    "try it on your own"
   ]
  },
  {
   "cell_type": "markdown",
   "id": "957fbf5f",
   "metadata": {},
   "source": [
    "***NON LINEAR DATA STRUCTURES***"
   ]
  },
  {
   "cell_type": "markdown",
   "id": "8fdf903a",
   "metadata": {},
   "source": [
    "***TRESS*** AND ***GRAPH***"
   ]
  },
  {
   "cell_type": "markdown",
   "id": "6d72cda8",
   "metadata": {},
   "source": [
    "Tress are connected ny edges or link\n",
    "terms used are \n",
    "- **Node** individual element \n",
    "- **root** topmost one ie origin ,only one root\n",
    "- **edge or link** connnecting nodes\n",
    "- **parent node** connecting another two small node or which has child \n",
    "- **siblings** nodes with same parent \n",
    "- **leaf/external node/terminal** one with no child\n",
    "- **internal node** atleast has one node \n",
    "- **path** route btwn one node and another\n"
   ]
  },
  {
   "cell_type": "markdown",
   "id": "66c13ce8",
   "metadata": {},
   "source": [
    "***Imporatant properties***\n",
    "- A tree conatin only one node\n",
    "- **if we have totally N nodes then N-1 edges/links are there**   \n",
    "- example 11 nodes ,10 edges/links\n",
    "- Every child contain only **one Parent** but a parent can have different (any number of child)\n",
    "- Tree is usually composed of subtress ie tress are **recursuive**"
   ]
  },
  {
   "cell_type": "markdown",
   "id": "f68cd3b3",
   "metadata": {},
   "source": [
    "- **Degree of Node ** Total no of nodes of childrens\n",
    "- **degree of tress** Node which contain highest number of children\n",
    "- level width of the tress \n",
    "- **height** longest path from leaf node to the particular node with count of no of edges\n",
    "- **height of tree** longest path from leaf node to root with count of no of edges\n",
    "- **Depth** in reverse order ir root node to the particular node\n",
    "- **Depth of Tree** longest path from root to leaf "
   ]
  },
  {
   "cell_type": "markdown",
   "id": "c1a854b5",
   "metadata": {},
   "source": [
    "APPLICATION \n",
    "- *BINARY SEARCH*\n",
    "- *HEAPS*"
   ]
  },
  {
   "cell_type": "markdown",
   "id": "551f7edf",
   "metadata": {},
   "source": [
    "***types:***\n",
    "- General trees : no limitaions on having childres\n",
    "- binary trees  : atmost two childres only (0,1,2 childrens)//other 5 types - full binary  /-complete /-perfect -/balance -/ pathalogical -//\n"
   ]
  },
  {
   "cell_type": "markdown",
   "id": "ca1eaaae",
   "metadata": {},
   "source": [
    "**Binary search tree** ,left should have less than root ,right should have greater than root /parent,and right and left should be binary search tree(atmost two children)"
   ]
  },
  {
   "cell_type": "markdown",
   "id": "2e2af940",
   "metadata": {},
   "source": [
    "searching ,insertion ,deletion is easier ,,hence they are ordred"
   ]
  },
  {
   "cell_type": "markdown",
   "id": "82125fa0",
   "metadata": {},
   "source": [
    "constructing a binary search tree\n",
    "for 5 4 10 7 25 36 1 121"
   ]
  },
  {
   "cell_type": "markdown",
   "id": "5a1e244d",
   "metadata": {},
   "source": [
    "Traversing in pre-order\n",
    "- visit the root node\n",
    "- traversing the left subtree and finally\n",
    "- traversing the right sub tree \n",
    "- eg 30 10 34 30-root,10-left ,34-right ie 30-10-34"
   ]
  },
  {
   "cell_type": "markdown",
   "id": "53ac86f6",
   "metadata": {},
   "source": [
    "Traversing in IN oreder\n",
    "- traversing the left subtree\n",
    "- visit the root node\n",
    "- traversing the right sub tree\n",
    "- eg 30 10 34 ,10-left,30-root ,34-right ie 10-30-34\n",
    "- benefits, we get is ascending order"
   ]
  },
  {
   "cell_type": "markdown",
   "id": "ce3e3733",
   "metadata": {},
   "source": [
    "traversing in post order:\n",
    "- traversing left subtree\n",
    "- traversing right sub treee\n",
    "- visit the node\n",
    "eg 30 10 34 ,10-left,30-root ,34-right ie 10-34-30"
   ]
  },
  {
   "cell_type": "markdown",
   "id": "25f68b4a",
   "metadata": {},
   "source": [
    "level order Traversal:\n",
    "- visiting the level vise level 0,level 1,level 2\n",
    "- eg 30 10 34 ,10-left,30-root ,34-right ie 30-10-34"
   ]
  },
  {
   "cell_type": "markdown",
   "id": "d14f2018",
   "metadata": {},
   "source": [
    "No of nodes in binary serach tree =***no of nodes in left +no of nodes in right+1***"
   ]
  },
  {
   "cell_type": "markdown",
   "id": "9ff69c30",
   "metadata": {},
   "source": [
    "***Implemenation of binary seach treee***"
   ]
  },
  {
   "cell_type": "code",
   "execution_count": 40,
   "id": "fbac0455",
   "metadata": {},
   "outputs": [],
   "source": [
    "class bst:\n",
    "    def __init__(self,data):\n",
    "        self.left=None\n",
    "        self.data=data\n",
    "        self.right=None\n",
    "    \n",
    "        \n",
    "        "
   ]
  },
  {
   "cell_type": "code",
   "execution_count": 41,
   "id": "2833c674",
   "metadata": {},
   "outputs": [],
   "source": [
    "ll=bst(10)"
   ]
  },
  {
   "cell_type": "code",
   "execution_count": 42,
   "id": "00e27f61",
   "metadata": {},
   "outputs": [
    {
     "name": "stdout",
     "output_type": "stream",
     "text": [
      "None\n"
     ]
    }
   ],
   "source": [
    "print(ll.right)"
   ]
  },
  {
   "cell_type": "code",
   "execution_count": 43,
   "id": "72adf5c4",
   "metadata": {},
   "outputs": [],
   "source": [
    "ll.right=bst(3)"
   ]
  },
  {
   "cell_type": "code",
   "execution_count": 44,
   "id": "46a09a90",
   "metadata": {},
   "outputs": [
    {
     "name": "stdout",
     "output_type": "stream",
     "text": [
      "3\n"
     ]
    }
   ],
   "source": [
    "print(ll.right.data)"
   ]
  },
  {
   "cell_type": "code",
   "execution_count": 45,
   "id": "6ec154a6",
   "metadata": {},
   "outputs": [
    {
     "name": "stdout",
     "output_type": "stream",
     "text": [
      "<__main__.bst object at 0x7f8a707498a0>\n"
     ]
    }
   ],
   "source": [
    "print(ll.right)"
   ]
  },
  {
   "cell_type": "code",
   "execution_count": 11,
   "id": "f1a385f4",
   "metadata": {},
   "outputs": [],
   "source": [
    "class bst:\n",
    "    def __init__(self,key):\n",
    "        self.left=None\n",
    "        self.key=key\n",
    "        self.right=None\n",
    "    def insert(self,data):\n",
    "        if self.key is None:\n",
    "            self.key=data\n",
    "            return\n",
    "        if self.key>data:\n",
    "            if self.left:\n",
    "                self.left.insert(data)\n",
    "            else:\n",
    "                self.left=bst(data)\n",
    "        else:\n",
    "            if self.right:\n",
    "                self.right.insert(data)\n",
    "            else:\n",
    "                self.right=bst(data)\n",
    "    def search(self,data):\n",
    "        if self.key ==data:\n",
    "            print(\"node found @ root\")\n",
    "            return\n",
    "        if data<self.key:\n",
    "            if self.left:\n",
    "                self.left.search(data)\n",
    "            else:\n",
    "                print(\"Node not found\")\n",
    "            \n",
    "        else:\n",
    "            if self.right:\n",
    "                self.right.search(data)\n",
    "            else:\n",
    "                print(\"Node is not there\")\n",
    "    def preorder(self):  #recurssive program\n",
    "        print(self.key,end=\" \")\n",
    "        if self.left: #left nodes\n",
    "            self.left.preorder() #calling the preorder agin\n",
    "        if self.right:\n",
    "            self.right.preorder()\n",
    "        \n",
    "    def inorder(self):\n",
    "        if self.left: #left nodes\n",
    "            self.left.inorder() #calling the inorder agin\n",
    "        print(self.key,end=\" \")    \n",
    "        if self.right:\n",
    "            self.right.inorder()\n",
    "        \n",
    "    def postorder(self):\n",
    "        if self.left:\n",
    "             self.left.postorder()\n",
    "        if self.right:\n",
    "            self.right.postorder()\n",
    "        print(self.key,end=\" \")\n",
    "        \n",
    "    def delete(self,data,curr):\n",
    "        if self.key is None:\n",
    "            print(\"tree is empty\")\n",
    "            return\n",
    "        if data<self.key:\n",
    "            if self.left:  \n",
    "                self.left=self.left.delete(data,curr)\n",
    "            else:\n",
    "                print(\"not present\")\n",
    "        elif data>self.key:\n",
    "            if self.right:\n",
    "                self.right=self.right.delete(data,curr)\n",
    "            else:\n",
    "                print(\"not present\")\n",
    "        else:\n",
    "            if self.left is None:\n",
    "                temp=self.right\n",
    "                if data==curr:\n",
    "                    self.key=temp.key\n",
    "                    self.left=temp.left\n",
    "                    self.right=temp.right\n",
    "                    temp=None\n",
    "                    return\n",
    "                self=None\n",
    "                return temp\n",
    "            if self.right is None:\n",
    "                temp=self.left\n",
    "                if data==curr:\n",
    "                    self.key=temp.key\n",
    "                    self.left=temp.left\n",
    "                    self.right=temp.right\n",
    "                    temp=None\n",
    "                    return\n",
    "                self=None\n",
    "                return temp\n",
    "            node=self.right\n",
    "            while node.left:\n",
    "                node=node.left\n",
    "            self.key=node.key \n",
    "            self.right=self.right.delete(node.key,curr)\n",
    "        return self\n",
    "    def min(self):\n",
    "        curr=self  #curr=object ie ll\n",
    "        while curr.left:\n",
    "            curr=curr.left\n",
    "        print(\"minimum =\",curr.key)\n",
    "    def max(self):\n",
    "        curr=self\n",
    "        while curr.right:\n",
    "            curr=curr.right\n",
    "        print(\"maximum =\",curr.key)\n",
    "        \n",
    "def count(Node):\n",
    "    if Node is None:\n",
    "        return 0\n",
    "    return 1+count(Node.left)+count(Node.right)     \n",
    "        \n",
    "        "
   ]
  },
  {
   "cell_type": "code",
   "execution_count": 12,
   "id": "56ec0428",
   "metadata": {},
   "outputs": [],
   "source": [
    "ll=bst(None)"
   ]
  },
  {
   "cell_type": "code",
   "execution_count": 18,
   "id": "d40e4b74",
   "metadata": {},
   "outputs": [],
   "source": [
    "ll.insert(1)"
   ]
  },
  {
   "cell_type": "code",
   "execution_count": 4,
   "id": "13180b8c",
   "metadata": {},
   "outputs": [],
   "source": [
    "ll.insert(9)"
   ]
  },
  {
   "cell_type": "code",
   "execution_count": 5,
   "id": "32840a35",
   "metadata": {},
   "outputs": [],
   "source": [
    "list1=[1,2,3,4,5,6,7,8,9,50]\n",
    "for i in list1:\n",
    "    ll.insert(i)"
   ]
  },
  {
   "cell_type": "code",
   "execution_count": 29,
   "id": "5ef3c418",
   "metadata": {},
   "outputs": [
    {
     "name": "stdout",
     "output_type": "stream",
     "text": [
      "8\n"
     ]
    }
   ],
   "source": [
    "print(ll.right.right.right.key)"
   ]
  },
  {
   "cell_type": "code",
   "execution_count": 31,
   "id": "0165fe0f",
   "metadata": {},
   "outputs": [
    {
     "name": "stdout",
     "output_type": "stream",
     "text": [
      "1 4 5 7 8 10 "
     ]
    }
   ],
   "source": [
    "ll.inorder()"
   ]
  },
  {
   "cell_type": "markdown",
   "id": "c753ed55",
   "metadata": {},
   "source": [
    "Traversing of binnary tree\n",
    "- preorder"
   ]
  },
  {
   "cell_type": "code",
   "execution_count": 53,
   "id": "ee833908",
   "metadata": {},
   "outputs": [
    {
     "name": "stdout",
     "output_type": "stream",
     "text": [
      "10 9 1 2 3 4 5 6 7 8 9 50 "
     ]
    }
   ],
   "source": [
    "ll.preorder()"
   ]
  },
  {
   "cell_type": "code",
   "execution_count": 54,
   "id": "664f5f32",
   "metadata": {},
   "outputs": [
    {
     "name": "stdout",
     "output_type": "stream",
     "text": [
      "1 2 3 4 5 6 7 8 9 9 10 50 "
     ]
    }
   ],
   "source": [
    "ll.inorder()"
   ]
  },
  {
   "cell_type": "code",
   "execution_count": 55,
   "id": "2a91e7af",
   "metadata": {},
   "outputs": [
    {
     "name": "stdout",
     "output_type": "stream",
     "text": [
      "8 7 6 5 4 3 2 1 9 9 50 10 "
     ]
    }
   ],
   "source": [
    "ll.postorder()"
   ]
  },
  {
   "cell_type": "code",
   "execution_count": 56,
   "id": "e1536343",
   "metadata": {},
   "outputs": [
    {
     "data": {
      "text/plain": [
       "<__main__.bst at 0x7f8a70712e90>"
      ]
     },
     "execution_count": 56,
     "metadata": {},
     "output_type": "execute_result"
    }
   ],
   "source": [
    "ll.delete(7,6)"
   ]
  },
  {
   "cell_type": "code",
   "execution_count": 57,
   "id": "89c134b3",
   "metadata": {},
   "outputs": [
    {
     "name": "stdout",
     "output_type": "stream",
     "text": [
      "8 6 5 4 3 2 1 9 9 50 10 "
     ]
    }
   ],
   "source": [
    "ll.postorder()"
   ]
  },
  {
   "cell_type": "code",
   "execution_count": 58,
   "id": "4931003a",
   "metadata": {},
   "outputs": [
    {
     "name": "stdout",
     "output_type": "stream",
     "text": [
      "11\n"
     ]
    }
   ],
   "source": [
    "print(count(ll))"
   ]
  },
  {
   "cell_type": "markdown",
   "id": "2634ad93",
   "metadata": {},
   "source": [
    "\n",
    "*to find max and min*\n",
    "- right most is largest if no right subtree is there root node is answer\n",
    "- left most is smallest if no left subtree ,root is smallest"
   ]
  },
  {
   "cell_type": "code",
   "execution_count": 59,
   "id": "dc5fc5b3",
   "metadata": {},
   "outputs": [
    {
     "name": "stdout",
     "output_type": "stream",
     "text": [
      "maximum = 50\n"
     ]
    }
   ],
   "source": [
    "ll.max()"
   ]
  },
  {
   "cell_type": "code",
   "execution_count": 60,
   "id": "86334f92",
   "metadata": {},
   "outputs": [
    {
     "name": "stdout",
     "output_type": "stream",
     "text": [
      "minimum = 1\n"
     ]
    }
   ],
   "source": [
    "ll.min()"
   ]
  },
  {
   "cell_type": "markdown",
   "id": "0747d0b2",
   "metadata": {},
   "source": [
    "Binnary heap -complete binary tree with heap property\n",
    "- it is completely different from  binary search tree"
   ]
  },
  {
   "cell_type": "markdown",
   "id": "bcd6790f",
   "metadata": {},
   "source": [
    "heap = parent key should be greater than or equal to child node(max heap) or it contain parent key with lesser or equal to child node(min heap)"
   ]
  },
  {
   "cell_type": "markdown",
   "id": "72395609",
   "metadata": {},
   "source": [
    "heapify : rearrange the nodes to apply a property \n",
    "- heapify up : moves from down to up\n",
    "- heapify down: moves from up to down"
   ]
  },
  {
   "cell_type": "markdown",
   "id": "abe24996",
   "metadata": {},
   "source": [
    "to find position of the node in the list \n",
    "- root = list [0]\n",
    "- parent =(i-1)//2\n",
    "- left child =(2*i)+1\n",
    "- right child=(2*i)+2\n"
   ]
  },
  {
   "cell_type": "code",
   "execution_count": 61,
   "id": "657529ec",
   "metadata": {},
   "outputs": [],
   "source": [
    "import heapq #follows minimum heap property"
   ]
  },
  {
   "cell_type": "markdown",
   "id": "0de551b9",
   "metadata": {},
   "source": [
    "index is : (it maintains the heap min property)\n",
    "- heapq.heappush(heap,item)\n",
    "- heapq.heappop(heap) # deletes and returns the smallest value\n",
    "- heapq.heapify(heap) #converts to heap min property\n",
    "- heapq.heappushpop(heap,item) #insert and return the samllest value(combines push and pop)\n",
    "- heapq.heapreplace(heap,item) pop and folllwed by push\n",
    "- heap.nsmallest(n,iterable,key=None)\n",
    "- heap.nlargest(n,iterable,key=None)"
   ]
  },
  {
   "cell_type": "code",
   "execution_count": 62,
   "id": "79c8b7c5",
   "metadata": {},
   "outputs": [],
   "source": [
    "heap=[]\n",
    "heapq.heappush(heap,10)"
   ]
  },
  {
   "cell_type": "code",
   "execution_count": 63,
   "id": "ab2dbc14",
   "metadata": {},
   "outputs": [
    {
     "data": {
      "text/plain": [
       "[10]"
      ]
     },
     "execution_count": 63,
     "metadata": {},
     "output_type": "execute_result"
    }
   ],
   "source": [
    "heap"
   ]
  },
  {
   "cell_type": "code",
   "execution_count": 64,
   "id": "dfd86478",
   "metadata": {},
   "outputs": [],
   "source": [
    "heapq.heappush(heap,1)"
   ]
  },
  {
   "cell_type": "code",
   "execution_count": 65,
   "id": "22b23e7b",
   "metadata": {},
   "outputs": [],
   "source": [
    "heapq.heappush(heap,9)"
   ]
  },
  {
   "cell_type": "code",
   "execution_count": 66,
   "id": "84d29ccc",
   "metadata": {},
   "outputs": [
    {
     "data": {
      "text/plain": [
       "[1, 10, 9]"
      ]
     },
     "execution_count": 66,
     "metadata": {},
     "output_type": "execute_result"
    }
   ],
   "source": [
    "heap"
   ]
  },
  {
   "cell_type": "code",
   "execution_count": 67,
   "id": "e5e0d0b0",
   "metadata": {},
   "outputs": [
    {
     "data": {
      "text/plain": [
       "1"
      ]
     },
     "execution_count": 67,
     "metadata": {},
     "output_type": "execute_result"
    }
   ],
   "source": [
    "heapq.heappop(heap)  #deletes root node"
   ]
  },
  {
   "cell_type": "code",
   "execution_count": 68,
   "id": "0729062e",
   "metadata": {},
   "outputs": [],
   "source": [
    "list1=[1,3,5,2,4,6]  \n",
    "heapq.heapify(list1) #converts to heap min"
   ]
  },
  {
   "cell_type": "code",
   "execution_count": 69,
   "id": "12789aa5",
   "metadata": {},
   "outputs": [
    {
     "data": {
      "text/plain": [
       "[1, 2, 5, 3, 4, 6]"
      ]
     },
     "execution_count": 69,
     "metadata": {},
     "output_type": "execute_result"
    }
   ],
   "source": [
    "list1"
   ]
  },
  {
   "cell_type": "code",
   "execution_count": 70,
   "id": "5798a294",
   "metadata": {},
   "outputs": [
    {
     "data": {
      "text/plain": [
       "1"
      ]
     },
     "execution_count": 70,
     "metadata": {},
     "output_type": "execute_result"
    }
   ],
   "source": [
    "heapq.heappushpop(list1,89)"
   ]
  },
  {
   "cell_type": "code",
   "execution_count": 71,
   "id": "1c39d766",
   "metadata": {},
   "outputs": [
    {
     "data": {
      "text/plain": [
       "[2, 3, 4, 5, 6, 89]"
      ]
     },
     "execution_count": 71,
     "metadata": {},
     "output_type": "execute_result"
    }
   ],
   "source": [
    "heapq.nsmallest(8,list1)"
   ]
  },
  {
   "cell_type": "markdown",
   "id": "5d793cc2",
   "metadata": {},
   "source": [
    "***GRAPHS***"
   ]
  },
  {
   "cell_type": "markdown",
   "id": "520a95d4",
   "metadata": {},
   "source": [
    "- ALL tress are graph\n",
    "- no special node ie root nodes, all are equal \n",
    "- it has multiple points and multiple paths ie we can reach the starting position ie it contain links"
   ]
  },
  {
   "cell_type": "markdown",
   "id": "22538ce8",
   "metadata": {},
   "source": [
    "G=(V,E)\n",
    "- V=SET of certices v={1,2,3,4,}\n",
    "- e=set of edges E={12,21,13,31,14,41,23,24,32,34,43}"
   ]
  },
  {
   "cell_type": "markdown",
   "id": "6a1a3f73",
   "metadata": {},
   "source": [
    "applications:\n",
    "- google maps (suggesting the shortest path)\n",
    "- ecommerence website(recommendations)\n",
    "- google search \n",
    "- facebbok,insta frnds suggestion "
   ]
  },
  {
   "cell_type": "markdown",
   "id": "ccd2629e",
   "metadata": {},
   "source": [
    "**TYPES**\n",
    "- directed graph (if the direction of edges are diected ) - following in twitter (only one )\n",
    "- undirected (if edges are bi directional(no specific direction) - following in facebook (both follow)\n",
    "- weighed graph(if edges has a value ie 12=7)\n",
    "- cyclic (a graph contain cycle)\n",
    "- acyclic (there is no cycle) example tree"
   ]
  },
  {
   "cell_type": "markdown",
   "id": "77de0cf6",
   "metadata": {},
   "source": [
    "nodes are also called as vertex \n",
    "connection btwn nodes is called edges\n"
   ]
  },
  {
   "cell_type": "markdown",
   "id": "d814bd48",
   "metadata": {},
   "source": [
    "***Terminiloges***:\n",
    "- **Adajacent nodes**-if there is an edge from node X to Y\n",
    "- **Path**-sequence of vertices in whicj each pair of succesive nodes is connected by edges\n",
    "  - **length of path** is counting the edges\n",
    "  - **simple path** where vertices are not repeating \n",
    "  - **closed path** first and last node are same,vertices can be repeated\n",
    "  - **cycle path** except first and last node vertices should not repeat\n",
    "- **Connected graph** any node can be reached from any node\n",
    "   - **Strongly connected graph** it is directed graph ie triangle\n",
    "   - **weakly connected** some nodes are not accecible ,but if unidrected graph it behvaes as strongly coneted graph \n",
    "- **indegree** no of edges coming to the nodes\n",
    "- **outdegree** no of egdges going out of the nodes\n",
    "- **Complete graph** if any nodes in the graph is adjacent all the nodes (ie there should be edges btwn all the pairs)"
   ]
  },
  {
   "cell_type": "markdown",
   "id": "83d7d946",
   "metadata": {},
   "source": [
    "***Mose commonly used graph representation are***\n",
    "- Ajacency Matrix\n",
    "- Adjacency List"
   ]
  },
  {
   "cell_type": "markdown",
   "id": "38e8d227",
   "metadata": {},
   "source": [
    "***ADJACENCY MATRIX***\n",
    "-represents the nodes conection in matrix form \n",
    "- create k*k matrix(no of nodes)\n",
    "- rows and column represents the nodes of the graph \n",
    "- if edge is present then store 1 (edge is there) otherwise 0 (no edge is there)\n",
    "- if it is weighed graph the store the weigh of the edge instead of the 1 if no edge then 0\n",
    "- spash graph - less connected graph \n",
    "- dense graph - more connected graph "
   ]
  },
  {
   "cell_type": "markdown",
   "id": "ce19b920",
   "metadata": {},
   "source": [
    "***ADJACENCY LIST*** - stores the adjacent nodes itself\n",
    "- it stores a list of node and stores all the adjacent nodes example A:[B,C,D] here b,c,d are adjacent to A\n",
    "- it uses less space hence stores only the value if asjacent is there ie edge is there\n",
    "- to store weighed graph - A:[(B,2),(C,4)] where 2,4 is the weigh \n",
    "- in python it is represented using dictionary\n",
    " "
   ]
  },
  {
   "cell_type": "markdown",
   "id": "b51ff331",
   "metadata": {},
   "source": [
    "GRAPH OPERATIONS \n",
    "- Insertion (node,edges)\n",
    "- deletion (nodes,edges)\n",
    "- traversal"
   ]
  },
  {
   "cell_type": "markdown",
   "id": "e89d745f",
   "metadata": {},
   "source": [
    "***IMPLEMENTATION OF GRAPH***\n",
    "-- \n",
    "-- **using adjacency matrix**"
   ]
  },
  {
   "cell_type": "code",
   "execution_count": 12,
   "id": "7cd1ef02",
   "metadata": {},
   "outputs": [],
   "source": [
    "def addnode(v):\n",
    "    global node_count\n",
    "    if v in nodes:\n",
    "        print(v,\"-already there\")\n",
    "        return \n",
    "    node_count=node_count+1\n",
    "    nodes.append(v)\n",
    "    for n in graph:\n",
    "        n.append(0)\n",
    "    temp=[]\n",
    "    for i in range(node_count):\n",
    "        temp.append(0)\n",
    "    graph.append(temp)\n",
    "\n",
    "def printgraph():\n",
    "    for i in range(node_count):\n",
    "        for j in range(node_count):\n",
    "            print(format(graph[i][j]),end=\" \")\n",
    "        print()\n",
    "\n",
    "def addeduduw(v1,v2):\n",
    "    if v1 not in nodes:\n",
    "        print(\"v1 not there\")\n",
    "        return \n",
    "    if v2 not in nodes:\n",
    "        print(\"v2 not there\")\n",
    "        return\n",
    "    v1in=nodes.index(v1)\n",
    "    v2in=nodes.index(v2)\n",
    "    graph[v1in][v2in]=1\n",
    "    graph[v2in][v1in]=1\n",
    "    \n",
    "def addedudw(v1,v2,cost):\n",
    "    if v1 not in nodes:\n",
    "        print(\"v1 not there\")\n",
    "        return \n",
    "    if v2 not in nodes:\n",
    "        print(\"v2 not there\")\n",
    "        return\n",
    "    v1in=nodes.index(v1)\n",
    "    v2in=nodes.index(v2)\n",
    "    graph[v1in][v2in]=cost\n",
    "    graph[v2in][v1in]=cost       \n",
    "        \n",
    "        \n",
    "def addeddw(v1,v2,cost):\n",
    "    if v1 not in nodes:\n",
    "        print(v1,\"not there\")\n",
    "        return \n",
    "    if v2 not in nodes:\n",
    "        print(\"v2 not there\")\n",
    "        return\n",
    "    v1in=nodes.index(v1)\n",
    "    v2in=nodes.index(v2)\n",
    "    graph[v1in][v2in]=cost\n",
    "    #graph[v2in][v1in]=cost  \n",
    "\n",
    "    \n",
    "def addedduw(v1,v2):\n",
    "    if v1 not in nodes:\n",
    "        print(\"v1 not there\")\n",
    "        return \n",
    "    if v2 not in nodes:\n",
    "        print(\"v2 not there\")\n",
    "        return\n",
    "    v1in=nodes.index(v1)\n",
    "    v2in=nodes.index(v2)\n",
    "    graph[v1in][v2in]=1\n",
    "    #graph[v2in][v1in]=cost  \n",
    "    \n",
    "def deletenode(v):   #works fro all types\n",
    "    global node_count\n",
    "    if v  not in nodes:\n",
    "        print(v,\"is not there\")\n",
    "        return\n",
    "    vin=nodes.index(v)\n",
    "    node_count=node_count-1\n",
    "    nodes.remove(v)\n",
    "    graph.pop(vin)\n",
    "    for i in graph:\n",
    "        i.pop(vin)\n",
    "    \n",
    "def deleteedge(v1,v2):\n",
    "    if v1 not in nodes:\n",
    "        print(v1,\"is not there\")\n",
    "        return\n",
    "    if v2  not in nodes:\n",
    "        print(v2,\"is not there\")\n",
    "        return\n",
    "    v1in=nodes.index(v1)\n",
    "    v2in=nodes.index(v2)\n",
    "    graph[v1in][v2in]=0\n",
    "    graph[v2in][v1in]=0\n",
    "    \n",
    "        \n",
    "        \n",
    "nodes=[]\n",
    "graph=[]\n",
    "node_count=0\n"
   ]
  },
  {
   "cell_type": "code",
   "execution_count": 22,
   "id": "0ddde873",
   "metadata": {},
   "outputs": [],
   "source": [
    "addnode(\"u\")"
   ]
  },
  {
   "cell_type": "code",
   "execution_count": 14,
   "id": "cd6544f3",
   "metadata": {},
   "outputs": [],
   "source": [
    "addnode(\"y\")"
   ]
  },
  {
   "cell_type": "code",
   "execution_count": 24,
   "id": "8d40666a",
   "metadata": {},
   "outputs": [
    {
     "name": "stdout",
     "output_type": "stream",
     "text": [
      "[[0, 0], [0, 0]]\n"
     ]
    }
   ],
   "source": [
    "print(graph)"
   ]
  },
  {
   "cell_type": "code",
   "execution_count": 23,
   "id": "84bd7ca8",
   "metadata": {},
   "outputs": [
    {
     "name": "stdout",
     "output_type": "stream",
     "text": [
      "['y', 'u']\n"
     ]
    }
   ],
   "source": [
    "print(nodes)"
   ]
  },
  {
   "cell_type": "code",
   "execution_count": 32,
   "id": "1ae0b592",
   "metadata": {
    "scrolled": false
   },
   "outputs": [
    {
     "name": "stdout",
     "output_type": "stream",
     "text": [
      "0 0 \n",
      "0 0 \n"
     ]
    }
   ],
   "source": [
    "printgraph() #print two matrices"
   ]
  },
  {
   "cell_type": "code",
   "execution_count": 118,
   "id": "5c4ad437",
   "metadata": {},
   "outputs": [],
   "source": [
    "addeduduw(\"u\",\"u\")"
   ]
  },
  {
   "cell_type": "code",
   "execution_count": 18,
   "id": "0f8c335c",
   "metadata": {},
   "outputs": [],
   "source": [
    "addedudw(\"u\",\"y\",10) #adds weight"
   ]
  },
  {
   "cell_type": "code",
   "execution_count": 166,
   "id": "123e32e2",
   "metadata": {},
   "outputs": [],
   "source": [
    "addedduw(\"u\",\"y\")"
   ]
  },
  {
   "cell_type": "code",
   "execution_count": 29,
   "id": "1060cefb",
   "metadata": {},
   "outputs": [],
   "source": [
    "addedudw(\"u\",\"y\",10)"
   ]
  },
  {
   "cell_type": "code",
   "execution_count": 19,
   "id": "42428f42",
   "metadata": {},
   "outputs": [],
   "source": [
    "deletenode(\"u\")"
   ]
  },
  {
   "cell_type": "code",
   "execution_count": 31,
   "id": "e6405388",
   "metadata": {},
   "outputs": [],
   "source": [
    "deleteedge(\"u\",\"y\")"
   ]
  },
  {
   "cell_type": "markdown",
   "id": "b5da68a9",
   "metadata": {},
   "source": [
    "***IMPLEMENTATION USING ADJACENCY LIST*** \n",
    "- using dictionaries\n",
    "  - key as nodes\n",
    "  - values as list of adjacent nodes of the key "
   ]
  },
  {
   "cell_type": "code",
   "execution_count": 241,
   "id": "12527682",
   "metadata": {},
   "outputs": [],
   "source": [
    "\n",
    "def addnode(v):\n",
    "    if v in graph:\n",
    "        print(v,\"-node is already there\")\n",
    "        return \n",
    "    graph[v]= []  #adds the dict \n",
    "\n",
    "def addedgeuduw(v1,v2):\n",
    "    if v1 not in graph:\n",
    "        print(v1 ,\"not there\")\n",
    "        return \n",
    "    if v2 not in graph:\n",
    "        print(v2 ,\"not there\")\n",
    "        return\n",
    "    graph[v1].append(v2)\n",
    "    graph[v2].append(v1) #keys and value in list\n",
    "\n",
    "def addedgeudw(v1,v2,cost):\n",
    "    if v1 not in graph:\n",
    "        print(v1 ,\"not there\")\n",
    "        return \n",
    "    if v2 not in graph:\n",
    "        print(v2 ,\"not there\")\n",
    "        return\n",
    "    l1=[v2,cost]\n",
    "    l2=[v1,cost]\n",
    "    graph[v1].append(l1)\n",
    "    graph[v2].append(l2) #keys and value in list with cost    \n",
    "    \n",
    "\n",
    "def addedgedw(v1,v2,cost):\n",
    "    if v1 not in graph:\n",
    "        print(v1 ,\"not there\")\n",
    "        return \n",
    "    if v2 not in graph:\n",
    "        print(v2 ,\"not there\")\n",
    "        return\n",
    "    l1=[v2,cost]\n",
    "    #l2=[v1,cost]\n",
    "    graph[v1].append(l1)\n",
    "    #graph[v2].append(l2) #keys and value in list with cost    \n",
    "\n",
    "def addedgeduw(v1,v2): #works for unweigted graph\n",
    "    if v1 not in graph:\n",
    "        print(v1 ,\"not there\")\n",
    "        return \n",
    "    if v2 not in graph:\n",
    "        print(v2 ,\"not there\")\n",
    "        return\n",
    "    graph[v1].append(v2)\n",
    "    #graph[v2].append(v1) #keys and value in list\n",
    "\n",
    "def deletenodediruw(v):\n",
    "    if v not in graph:\n",
    "        print(v ,\"not there\")\n",
    "        return \n",
    "    graph.pop(v) #removes the key\n",
    "    for i in graph :\n",
    "        list1=graph[i]\n",
    "        if v in list1:\n",
    "            list1.remove(v)\n",
    "\n",
    "def deletenodedirw(v):\n",
    "    if v not in graph:\n",
    "        print(v ,\"not there\")\n",
    "        return \n",
    "    graph.pop(v) #removes the key\n",
    "    for i in graph :\n",
    "        list1=graph[i]\n",
    "        for j in list1:\n",
    "            if v==j[0]:\n",
    "                list1.remove(j)\n",
    "                break\n",
    "\n",
    "                \n",
    "def deleteedgeuduw(v1,v2):\n",
    "     if v1 not in graph:\n",
    "        print(v1 ,\"not there\")\n",
    "        return \n",
    "     if v2 not in graph:\n",
    "        print(v2 ,\"not there\")\n",
    "        return\n",
    "     if v2 in graph[v1]:\n",
    "        graph[v1].remove(v2)\n",
    "        graph[v2].remove(v2)\n",
    "\n",
    "        \n",
    "def deleteedgeduw(v1,v2):\n",
    "     if v1 not in graph:\n",
    "        print(v1 ,\"not there\")\n",
    "        return \n",
    "     if v2 not in graph:\n",
    "        print(v2 ,\"not there\")\n",
    "        return\n",
    "     if v2 in graph[v1]:\n",
    "        graph[v1].remove(v2)\n",
    "        #graph[v2].remove(v2)\n",
    "    \n",
    "def deleteedgeudw(v1,v2,cost):\n",
    "    if v1 not in graph:\n",
    "        print(v1 ,\"not there\")\n",
    "        return \n",
    "    if v2 not in graph:\n",
    "        print(v2 ,\"not there\")\n",
    "        return \n",
    "    temp2=[v2,cost]\n",
    "    temp1=[v1,cost]\n",
    "    if temp2 in graph[v1]:\n",
    "        graph[v1].remove(temp2)\n",
    "        graph[v2].remove(temp1)\n",
    "    \n",
    "def deleteedgeudw(v1,v2,cost):\n",
    "    if v1 not in graph:\n",
    "        print(v1 ,\"not there\")\n",
    "        return \n",
    "    if v2 not in graph:\n",
    "        print(v2 ,\"not there\")\n",
    "        return \n",
    "    temp2=[v2,cost]\n",
    "    #temp1=[v1,cost]\n",
    "    if temp2 in graph[v1]:\n",
    "        graph[v1].remove(temp2)\n",
    "        #graph[v2].remove(temp1)\n",
    " \n",
    "\n",
    "\n",
    "\n",
    "\n",
    "\n",
    "\n",
    "\n",
    "\n",
    "\n",
    "\n",
    "\n",
    "\n",
    "graph = {}"
   ]
  },
  {
   "cell_type": "code",
   "execution_count": 244,
   "id": "74771cb9",
   "metadata": {},
   "outputs": [],
   "source": [
    "addnode(\"a\")"
   ]
  },
  {
   "cell_type": "code",
   "execution_count": 245,
   "id": "3a55f39f",
   "metadata": {},
   "outputs": [
    {
     "name": "stdout",
     "output_type": "stream",
     "text": [
      "{'b': [], 'a': []}\n"
     ]
    }
   ],
   "source": [
    "print(graph)"
   ]
  },
  {
   "cell_type": "code",
   "execution_count": 246,
   "id": "0b0d23b4",
   "metadata": {},
   "outputs": [],
   "source": [
    "addedgeuduw(\"b\",\"a\")\n"
   ]
  },
  {
   "cell_type": "code",
   "execution_count": 130,
   "id": "28a4918c",
   "metadata": {},
   "outputs": [
    {
     "name": "stdout",
     "output_type": "stream",
     "text": [
      "b not there\n"
     ]
    }
   ],
   "source": [
    "deletenodediruw(\"b\")"
   ]
  },
  {
   "cell_type": "code",
   "execution_count": 127,
   "id": "ee26584b",
   "metadata": {},
   "outputs": [],
   "source": [
    "deleteedgeudw(\"a\",\"b\",10)"
   ]
  },
  {
   "cell_type": "markdown",
   "id": "07fee291",
   "metadata": {},
   "source": [
    "***MULTIPLE EDGE GRAPHS***"
   ]
  },
  {
   "cell_type": "markdown",
   "id": "0da5262c",
   "metadata": {},
   "source": [
    "In adjacency matrix \n",
    "- instead of storing value 1 we can store the no of egdges in the matrix (for example 3 egdges are 3)"
   ]
  },
  {
   "cell_type": "markdown",
   "id": "a13b2d5d",
   "metadata": {},
   "source": [
    "***GRAPH TRAVERSAL***\n",
    "- BREATH FIRST SEARCH\n",
    "- DEPTH FIRST SEARCH"
   ]
  },
  {
   "cell_type": "markdown",
   "id": "b5eb90cf",
   "metadata": {},
   "source": [
    "***DEPTH FIRST SEARCH***"
   ]
  },
  {
   "cell_type": "markdown",
   "id": "b16602c5",
   "metadata": {},
   "source": [
    "It is done by viting any adjacent unvisited nodes\n",
    "- print the current node\n",
    "- visit and print the any of the adjacent node\n",
    "- print untill the dead end,then backtrack\n",
    "- backtrack,take reented visited node and check for any other adjacent node , if not then follow the 2\n",
    "- print all values \n",
    "- impleneation using stack may have duplicates"
   ]
  },
  {
   "cell_type": "markdown",
   "id": "53df5335",
   "metadata": {},
   "source": [
    "***IMPLEMENATION OF DFS***"
   ]
  },
  {
   "cell_type": "markdown",
   "id": "c4f1b7a9",
   "metadata": {},
   "source": [
    "select he node\n",
    "push node(current node)\n",
    "pop ()removes the top node\n",
    "push all the adjacnt nodes into the stack\n",
    "store all the visited nodes into a seperate list \n"
   ]
  },
  {
   "cell_type": "markdown",
   "id": "54bc7bac",
   "metadata": {},
   "source": [
    "implementaion of dfs for adjacency list using recurssive approach "
   ]
  },
  {
   "cell_type": "code",
   "execution_count": 260,
   "id": "a034a8d6",
   "metadata": {},
   "outputs": [],
   "source": [
    "def dfs(node,visted,graph):\n",
    "    if node not in graph :\n",
    "        print(\"node not there\")\n",
    "        return\n",
    "    if node not in visited:\n",
    "        print(node)\n",
    "        visited.add(node)\n",
    "        for i in graph[node]:\n",
    "            dfs(i,visited,graph) #recurssive\n",
    "visited=set()\n",
    "              "
   ]
  },
  {
   "cell_type": "code",
   "execution_count": 261,
   "id": "a90c234c",
   "metadata": {},
   "outputs": [
    {
     "name": "stdout",
     "output_type": "stream",
     "text": [
      "a\n",
      "b\n"
     ]
    }
   ],
   "source": [
    "dfs(\"a\",visited,graph)"
   ]
  },
  {
   "cell_type": "markdown",
   "id": "25949889",
   "metadata": {},
   "source": [
    "implementaion of dfs for adjacency list using iterative approach by stack "
   ]
  },
  {
   "cell_type": "code",
   "execution_count": 265,
   "id": "b899e8ed",
   "metadata": {},
   "outputs": [],
   "source": [
    "def dfsi(node,graph):\n",
    "    visited=set()\n",
    "    if node not in graph:\n",
    "        print(\"Node is not present\")\n",
    "        return\n",
    "    stack=[]\n",
    "    stack.append(node)\n",
    "    while stack:\n",
    "        current=stack.pop()\n",
    "        if current not in visited:\n",
    "            print(current)\n",
    "            visited.add(current)\n",
    "            for i in graph[current]:\n",
    "                stack.append(i)\n",
    "        \n",
    "    \n",
    "    "
   ]
  },
  {
   "cell_type": "code",
   "execution_count": 266,
   "id": "f419b456",
   "metadata": {},
   "outputs": [
    {
     "name": "stdout",
     "output_type": "stream",
     "text": [
      "a\n",
      "b\n"
     ]
    }
   ],
   "source": [
    "dfsi(\"a\",graph)"
   ]
  },
  {
   "cell_type": "code",
   "execution_count": null,
   "id": "64a5549c",
   "metadata": {},
   "outputs": [],
   "source": []
  }
 ],
 "metadata": {
  "kernelspec": {
   "display_name": "Python 3 (ipykernel)",
   "language": "python",
   "name": "python3"
  },
  "language_info": {
   "codemirror_mode": {
    "name": "ipython",
    "version": 3
   },
   "file_extension": ".py",
   "mimetype": "text/x-python",
   "name": "python",
   "nbconvert_exporter": "python",
   "pygments_lexer": "ipython3",
   "version": "3.10.6"
  }
 },
 "nbformat": 4,
 "nbformat_minor": 5
}
