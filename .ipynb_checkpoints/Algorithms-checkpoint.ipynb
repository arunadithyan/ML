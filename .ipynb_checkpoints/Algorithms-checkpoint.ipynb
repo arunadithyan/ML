{
 "cells": [
  {
   "cell_type": "markdown",
   "id": "a09e931f",
   "metadata": {},
   "source": [
    "***ALGORITHMS***"
   ]
  },
  {
   "cell_type": "markdown",
   "id": "9f474c96",
   "metadata": {},
   "source": [
    "- **PRIORI ANALYSIS**\n",
    "- **POSTERORI ANALYSIS**"
   ]
  },
  {
   "cell_type": "markdown",
   "id": "494a6b3a",
   "metadata": {},
   "source": [
    "CHARACTERISTICS\n",
    "- INPUT (0 OR 1)\n",
    "- OUTPUT (atleast MUST OUTPUT)\n",
    "- DEFINITENESS\n",
    "- FINITENESS\n",
    "- EFFECTIVENESS (speed)"
   ]
  },
  {
   "cell_type": "markdown",
   "id": "c9c34613",
   "metadata": {},
   "source": [
    "how to write an algorthims to swap "
   ]
  },
  {
   "cell_type": "markdown",
   "id": "1fab4e43",
   "metadata": {},
   "source": [
    "algorithm swap(a,b)\n",
    "begin \n",
    "temn =a;\n",
    "a=b\n",
    "b=temp"
   ]
  },
  {
   "cell_type": "markdown",
   "id": "261e4b19",
   "metadata": {},
   "source": [
    "***KRUSKAL ALGORTHIMS*** \n",
    "- ***Mininum spaning time***"
   ]
  },
  {
   "cell_type": "code",
   "execution_count": 32,
   "id": "cdb98901",
   "metadata": {},
   "outputs": [],
   "source": [
    "class Unionfind:\n",
    "    def __init__(self,n):\n",
    "        self.parent=list(range(n))\n",
    "        self.rank=[0]*n\n",
    "    def find(self,x):\n",
    "        if self.parent[x]!=x:\n",
    "            self.parent[x]=self.find(self.parent[x])\n",
    "        return self.parent[x]\n",
    "    def union(self,x,y):\n",
    "        x1=self.find(x)\n",
    "        x2=self.find(y)\n",
    "        if x1!=x2:\n",
    "            if self.rank[x1]<self.rank[x2]:\n",
    "                self.parent[x1]=x2\n",
    "            if self.rank[x1]>self.rank[x2]:\n",
    "                self.parent[x2]=x1\n",
    "            else:\n",
    "                self.parent[x2]=x1\n",
    "                self.rank[x1] +=1\n",
    "\n",
    "def kruskal(graph):\n",
    "    edges=[]\n",
    "    for u in range(len(graph)):\n",
    "        for v in range(len(graph[u])):\n",
    "            if graph[u][v]!=0:\n",
    "                edges.append((u, v, graph[u][v]))\n",
    "                \n",
    "    edges.sort(key=lambda x:x[2])\n",
    "    minimum_spanning_tree = []\n",
    "    uf = Unionfind(len(graph))\n",
    "    \n",
    "    for e in edges:\n",
    "        u, v, weight = e\n",
    "        if uf.find(u)!=uf.find(v):\n",
    "            uf.union(u,v)\n",
    "            minimum_spanning_tree.append(e)\n",
    "    return minimum_spanning_tree\n",
    "        \n",
    "    \n",
    "    \n",
    "            \n",
    "        "
   ]
  },
  {
   "cell_type": "code",
   "execution_count": 34,
   "id": "2d4d9cfa",
   "metadata": {},
   "outputs": [
    {
     "name": "stdout",
     "output_type": "stream",
     "text": [
      "[(0, 1, 2), (1, 2, 3), (1, 4, 5), (0, 3, 6)]\n"
     ]
    }
   ],
   "source": [
    "graph = [\n",
    "    [0, 2, 0, 6, 0],\n",
    "    [2, 0, 3, 8, 5],\n",
    "    [0, 3, 0, 0, 7],\n",
    "    [6, 8, 0, 0, 9],\n",
    "    [0, 5, 7, 9, 0]\n",
    "]\n",
    "\n",
    "minimum_spanning_tree = kruskal(graph)\n",
    "print(minimum_spanning_tree)\n"
   ]
  },
  {
   "cell_type": "markdown",
   "id": "a97496ba",
   "metadata": {},
   "source": [
    "***BINNARY SEARCH***"
   ]
  },
  {
   "cell_type": "code",
   "execution_count": 2,
   "id": "4f0616f7",
   "metadata": {
    "scrolled": true
   },
   "outputs": [],
   "source": [
    "class Solution:\n",
    "    def search(self,List,target):\n",
    "        l=0\n",
    "        r=len(nums)-1\n",
    "        while l<=r:\n",
    "            m=(l+r)//2\n",
    "            if nums[m]==target :\n",
    "                return m\n",
    "            elif nums[m]<target:\n",
    "              l=m+1\n",
    "            else:\n",
    "              r=m-1\n",
    "        return -1"
   ]
  },
  {
   "cell_type": "markdown",
   "id": "6367c628",
   "metadata": {},
   "source": [
    "***HEAP SORT***"
   ]
  },
  {
   "cell_type": "code",
   "execution_count": 11,
   "id": "93cdba08",
   "metadata": {},
   "outputs": [],
   "source": [
    "class Heapsort:\n",
    "    def heapfiy(arr,n,i):\n",
    "        largest=i\n",
    "        left=2*i\n",
    "        right=(2*i)+1\n",
    "        while l<=n and arr[left]>arr[largest]:\n",
    "            largest=left\n",
    "        while right<=n and arr[right]>arr[largest]:\n",
    "            largest=right\n",
    "        if largest!=i:\n",
    "                arr[largest],arr[i]=arr[i],a[largest]\n",
    "                self.heapify(arr,n,largest)\n",
    "    def heapsort(arr): \n",
    "        n=len(arr)\n",
    "        for i in range(n//2-1,-1,-1):\n",
    "            self.heapify(arr,n,-i) #bulid a heap\n",
    "        for i in range(n-1,0,-1):\n",
    "            arr[i],arr[0]=arr[0],arr[i] #extract one by one elements\n",
    "            self.heapify(arr,i,0)\n",
    "        return arr"
   ]
  },
  {
   "cell_type": "markdown",
   "id": "d5b7e38a",
   "metadata": {},
   "source": [
    "***MERGE SORT***"
   ]
  },
  {
   "cell_type": "code",
   "execution_count": 12,
   "id": "a9ec5ff1",
   "metadata": {},
   "outputs": [],
   "source": [
    "def mergesort(arr):\n",
    "    n=len(arr)\n",
    "    if n>1:\n",
    "        mid=(n)//2\n",
    "        l=arr[:mid]\n",
    "        r=arr[mid:]\n",
    "        mergesort(l)\n",
    "        mergesort(r)\n",
    "        i=j=k=0\n",
    "        while i<len(l) and j<len(r):\n",
    "            if left[i]<r[j]:\n",
    "                arr[k]=l[i]\n",
    "                i+=1\n",
    "            else:\n",
    "                arr[k]=r[j]\n",
    "                j=+1\n",
    "            k=+1\n",
    "        while i<len(l):\n",
    "            arr[k]=l[i]\n",
    "            k=+1\n",
    "            i=+1\n",
    "        while j<len(r):\n",
    "            arr[k]=r[j]\n",
    "            k=+1\n",
    "            j=+1\n",
    "            \n",
    "            "
   ]
  },
  {
   "cell_type": "markdown",
   "id": "0906eba6",
   "metadata": {},
   "source": [
    "***QUICKSORT***"
   ]
  },
  {
   "cell_type": "code",
   "execution_count": 15,
   "id": "401dd966",
   "metadata": {},
   "outputs": [],
   "source": [
    "class solution:\n",
    "    def findKthLargest(self,nums,k):\n",
    "        self.quickSort(nums, 0, len(nums) - 1)\n",
    "        return nums[-k]\n",
    "    def quickSort(nums,l,h):\n",
    "        if l<h:\n",
    "            piviot=self.partitionindex(nums,l,h)\n",
    "            self.quickSort(nums,l,piviot-1)\n",
    "            self.quicksort(nums,piviot+1,h)\n",
    "    def partitionindex(nums,l,h):\n",
    "        piviot=nums[high]\n",
    "        i=l-1\n",
    "        for j in range(l,h):\n",
    "            if l[j]<piviot:\n",
    "                i+=1\n",
    "                nums[i], nums[j] = nums[j], nums[i]\n",
    "            nums[i+1],nums[h]=nums[h],nums[i+1]\n",
    "        return i+1\n",
    "        "
   ]
  },
  {
   "cell_type": "code",
   "execution_count": null,
   "id": "a95fd69c",
   "metadata": {},
   "outputs": [],
   "source": []
  }
 ],
 "metadata": {
  "kernelspec": {
   "display_name": "Python 3 (ipykernel)",
   "language": "python",
   "name": "python3"
  },
  "language_info": {
   "codemirror_mode": {
    "name": "ipython",
    "version": 3
   },
   "file_extension": ".py",
   "mimetype": "text/x-python",
   "name": "python",
   "nbconvert_exporter": "python",
   "pygments_lexer": "ipython3",
   "version": "3.10.6"
  }
 },
 "nbformat": 4,
 "nbformat_minor": 5
}
