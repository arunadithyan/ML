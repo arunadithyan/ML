{
 "cells": [
  {
   "cell_type": "code",
   "execution_count": 1,
   "id": "af65c63d",
   "metadata": {},
   "outputs": [],
   "source": [
    "l=[1,2,3,4]\n",
    "l.append(7)"
   ]
  },
  {
   "cell_type": "code",
   "execution_count": 2,
   "id": "b5f187c9",
   "metadata": {},
   "outputs": [
    {
     "data": {
      "text/plain": [
       "[1, 2, 3, 4, 7]"
      ]
     },
     "execution_count": 2,
     "metadata": {},
     "output_type": "execute_result"
    }
   ],
   "source": [
    "l\n"
   ]
  },
  {
   "cell_type": "code",
   "execution_count": 7,
   "id": "7cbf8fdc",
   "metadata": {},
   "outputs": [],
   "source": [
    "f=l.pop(0)"
   ]
  },
  {
   "cell_type": "code",
   "execution_count": 8,
   "id": "6c3d917c",
   "metadata": {},
   "outputs": [
    {
     "data": {
      "text/plain": [
       "1"
      ]
     },
     "execution_count": 8,
     "metadata": {},
     "output_type": "execute_result"
    }
   ],
   "source": [
    "f"
   ]
  },
  {
   "cell_type": "code",
   "execution_count": 10,
   "id": "e8e5b1ff",
   "metadata": {},
   "outputs": [],
   "source": [
    "class Node:\n",
    "    def __init__(self,data):\n",
    "        self.data=data\n",
    "        self.pref=None #1st one (pref)\n",
    "        self.nref=None #last one 1#node#2 (nref)\n",
    "class doublell:\n",
    "        def __init__(self):\n",
    "            self.head=None\n",
    "        def printdlf(self): #forward traversal\n",
    "            if self.head is None:\n",
    "                print(\"empty\")\n",
    "            else:\n",
    "                n=self.head\n",
    "                while n is not None:\n",
    "                    print(n.data,\"->\",end=\" \")\n",
    "                    n=n.nref\n",
    "        def printdlb(self):  #backward traversal\n",
    "            if self.head is None:\n",
    "                print(\"empty\")\n",
    "            else:\n",
    "                n=self.head\n",
    "                while n.nref is not None:\n",
    "                    n=n.nref\n",
    "                while n is not None:\n",
    "                    print(n.data,\"<-\",end=\" \")\n",
    "                    n=n.pref\n",
    "        def addnew(self,data):\n",
    "            new=Node(data)\n",
    "            if self.head is None:\n",
    "                self.head=new\n",
    "            else:\n",
    "                print(\"not empty\")\n",
    "        def addstart(self,data):\n",
    "            new=Node(data)\n",
    "            if self.head is None:\n",
    "                self.head=new\n",
    "                print(\"empty and added\")\n",
    "                return\n",
    "            new.nref=self.head\n",
    "            self.head.pref=new\n",
    "            self.head=new\n",
    "        def addend(self,data):\n",
    "            new=Node(data)\n",
    "            if self.head is None:\n",
    "                self.head=new\n",
    "                print(\"empty and added\")\n",
    "                return \n",
    "            n=self.head\n",
    "            while n.nref is not None:\n",
    "                n=n.nref\n",
    "            n.nref=new\n",
    "            new.pref=n\n",
    "        def addbefore(self,data,x):\n",
    "            new=Node(data) \n",
    "            if self.head is None:\n",
    "                print(\"empty linked list\")\n",
    "                return\n",
    "            n=self.head\n",
    "            while n is not None:\n",
    "                if x==n.data:\n",
    "                    break\n",
    "                n=n.nref\n",
    "            if n is None:\n",
    "                print(\"No data present\")\n",
    "            else:\n",
    "                new.nref=n\n",
    "                new.pref=n.pref#linking n.pref to node\n",
    "                if n.pref is None: #checking for head\n",
    "                    self.head=new\n",
    "                else:\n",
    "                    n.pref.nref=new #linking pref to node\n",
    "                n.pref=new #new node data in pref\n",
    "        def addafter(self,data,x):\n",
    "            new=Node(data)\n",
    "            if self.head is None:\n",
    "                print(\"empty\")\n",
    "            else:\n",
    "                n=self.head\n",
    "                while n is not None:\n",
    "                    if x==n.data:\n",
    "                        break\n",
    "                    n=n.nref\n",
    "                if n is None:\n",
    "                    print(\"not found\")\n",
    "                else:\n",
    "                    new.nref=n.nref\n",
    "                    new.pref=n\n",
    "                    if n.nref is not None:\n",
    "                        n.nref.pref =new\n",
    "                    n.nref=new\n",
    "                    \n",
    "        def removehead(self):\n",
    "            if self.head is None:\n",
    "                print(\"empty ,cant delete\")\n",
    "                return  #stops here and return value\n",
    "            if self.head.nref is None:\n",
    "                self.head=None\n",
    "                print(\"only one node,deleted now empty\")\n",
    "            else:\n",
    "                self.head=self.head.nref\n",
    "                self.head.pref=None\n",
    "        def removeend(self):\n",
    "            if self.head is None:\n",
    "                print(\"empty,cant delete\")\n",
    "                return\n",
    "            if self.head.nref is None:\n",
    "                self.head=None\n",
    "                print(\"only one deleted now empty\")\n",
    "            else:\n",
    "                n=self.head\n",
    "                while n.nref is not None:\n",
    "                    n=n.nref\n",
    "                n.pref.nref =None\n",
    "        def remove(self,x):\n",
    "            if self.head is None:\n",
    "                print(\"cant delete,empty\")\n",
    "                return\n",
    "            if self.head.nref is None :\n",
    "                if x==self.head.data:\n",
    "                    self.head=None\n",
    "                    print(\"only one,now deleted,so empty\")\n",
    "                else:\n",
    "                     print(\"x is not present\")\n",
    "                return\n",
    "            if self.head.data==x:\n",
    "                self.head=self.head.nref\n",
    "                self.head.pref=None\n",
    "                return\n",
    "            n=self.head\n",
    "            while n.nref is not None:\n",
    "                if x==n.data:\n",
    "                    break\n",
    "                n=n.nref\n",
    "            if n.nref is not None:\n",
    "                n.pref.nref=n.nref\n",
    "                n.nref.pref=n.pref\n",
    "            else:\n",
    "                if n.data==x:\n",
    "                    n.pref.nref=None\n",
    "                else:\n",
    "                    print(\"x not found\")\n",
    "                    \n",
    "                \n",
    "                \n",
    "                \n",
    "                \n",
    "                \n",
    "                "
   ]
  },
  {
   "cell_type": "code",
   "execution_count": 11,
   "id": "9e2f50f6",
   "metadata": {},
   "outputs": [],
   "source": [
    "ll=doublell()"
   ]
  },
  {
   "cell_type": "code",
   "execution_count": 13,
   "id": "9adbd2f2",
   "metadata": {},
   "outputs": [
    {
     "name": "stdout",
     "output_type": "stream",
     "text": [
      "not empty\n"
     ]
    }
   ],
   "source": [
    "ll.addnew(8)"
   ]
  },
  {
   "cell_type": "code",
   "execution_count": 16,
   "id": "4735acc6",
   "metadata": {},
   "outputs": [],
   "source": [
    "ll.addstart(4)"
   ]
  },
  {
   "cell_type": "code",
   "execution_count": 21,
   "id": "4eaa3b99",
   "metadata": {},
   "outputs": [
    {
     "name": "stdout",
     "output_type": "stream",
     "text": [
      "18 <- 6 <- 9 <- 4 <- "
     ]
    }
   ],
   "source": [
    "ll.printdlb()"
   ]
  },
  {
   "cell_type": "code",
   "execution_count": 28,
   "id": "097f3078",
   "metadata": {},
   "outputs": [
    {
     "name": "stdout",
     "output_type": "stream",
     "text": [
      "4 -> 9 -> 6 -> 18 -> "
     ]
    }
   ],
   "source": [
    "a=[]\n",
    "a=(ll.printdlf())\n"
   ]
  },
  {
   "cell_type": "code",
   "execution_count": 29,
   "id": "22fbd5b4",
   "metadata": {},
   "outputs": [
    {
     "name": "stdout",
     "output_type": "stream",
     "text": [
      "None\n"
     ]
    }
   ],
   "source": []
  },
  {
   "cell_type": "code",
   "execution_count": null,
   "id": "b0fb744a",
   "metadata": {},
   "outputs": [],
   "source": []
  }
 ],
 "metadata": {
  "kernelspec": {
   "display_name": "Python 3 (ipykernel)",
   "language": "python",
   "name": "python3"
  },
  "language_info": {
   "codemirror_mode": {
    "name": "ipython",
    "version": 3
   },
   "file_extension": ".py",
   "mimetype": "text/x-python",
   "name": "python",
   "nbconvert_exporter": "python",
   "pygments_lexer": "ipython3",
   "version": "3.10.6"
  }
 },
 "nbformat": 4,
 "nbformat_minor": 5
}
